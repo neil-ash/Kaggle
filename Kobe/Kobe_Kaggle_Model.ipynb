{
 "cells": [
  {
   "cell_type": "markdown",
   "metadata": {},
   "source": [
    "# Kaggle: Kobe Bryant Shot Selection (Model)"
   ]
  },
  {
   "cell_type": "markdown",
   "metadata": {},
   "source": [
    "This data contains the location and circumstances of every field goal attempted by Kobe Bryant took during his 20-year career. Your task is to predict whether the basket went in (shot_made_flag).\n",
    "\n",
    "We have removed 5000 of the shot_made_flags (represented as missing values in the csv file). These are the test set shots for which you must submit a prediction. You are provided a sample submission file with the correct shot_ids needed for a valid prediction.\n",
    "\n",
    "To avoid leakage, your method should only train on events that occurred prior to the shot for which you are predicting! Since this is a playground competition with public answers, it's up to you to abide by this rule.\n",
    "\n",
    "https://www.kaggle.com/c/kobe-bryant-shot-selection/data"
   ]
  },
  {
   "cell_type": "code",
   "execution_count": 1,
   "metadata": {},
   "outputs": [],
   "source": [
    "import numpy as np\n",
    "import pandas as pd\n",
    "from matplotlib import pyplot as plt\n",
    "from matplotlib import style; style.use('ggplot')"
   ]
  },
  {
   "cell_type": "code",
   "execution_count": 2,
   "metadata": {},
   "outputs": [
    {
     "data": {
      "text/html": [
       "<div>\n",
       "<style scoped>\n",
       "    .dataframe tbody tr th:only-of-type {\n",
       "        vertical-align: middle;\n",
       "    }\n",
       "\n",
       "    .dataframe tbody tr th {\n",
       "        vertical-align: top;\n",
       "    }\n",
       "\n",
       "    .dataframe thead th {\n",
       "        text-align: right;\n",
       "    }\n",
       "</style>\n",
       "<table border=\"1\" class=\"dataframe\">\n",
       "  <thead>\n",
       "    <tr style=\"text-align: right;\">\n",
       "      <th></th>\n",
       "      <th>action_type</th>\n",
       "      <th>combined_shot_type</th>\n",
       "      <th>game_event_id</th>\n",
       "      <th>game_id</th>\n",
       "      <th>lat</th>\n",
       "      <th>loc_x</th>\n",
       "      <th>loc_y</th>\n",
       "      <th>lon</th>\n",
       "      <th>minutes_remaining</th>\n",
       "      <th>period</th>\n",
       "      <th>...</th>\n",
       "      <th>shot_type</th>\n",
       "      <th>shot_zone_area</th>\n",
       "      <th>shot_zone_basic</th>\n",
       "      <th>shot_zone_range</th>\n",
       "      <th>team_id</th>\n",
       "      <th>team_name</th>\n",
       "      <th>game_date</th>\n",
       "      <th>matchup</th>\n",
       "      <th>opponent</th>\n",
       "      <th>shot_id</th>\n",
       "    </tr>\n",
       "  </thead>\n",
       "  <tbody>\n",
       "    <tr>\n",
       "      <th>22901</th>\n",
       "      <td>Jump Shot</td>\n",
       "      <td>Jump Shot</td>\n",
       "      <td>102</td>\n",
       "      <td>29600027</td>\n",
       "      <td>33.9283</td>\n",
       "      <td>-140</td>\n",
       "      <td>116</td>\n",
       "      <td>-118.4098</td>\n",
       "      <td>0</td>\n",
       "      <td>1</td>\n",
       "      <td>...</td>\n",
       "      <td>2PT Field Goal</td>\n",
       "      <td>Left Side Center(LC)</td>\n",
       "      <td>Mid-Range</td>\n",
       "      <td>16-24 ft.</td>\n",
       "      <td>1610612747</td>\n",
       "      <td>Los Angeles Lakers</td>\n",
       "      <td>1996-11-03</td>\n",
       "      <td>LAL vs. MIN</td>\n",
       "      <td>MIN</td>\n",
       "      <td>22902</td>\n",
       "    </tr>\n",
       "    <tr>\n",
       "      <th>22902</th>\n",
       "      <td>Jump Shot</td>\n",
       "      <td>Jump Shot</td>\n",
       "      <td>127</td>\n",
       "      <td>29600031</td>\n",
       "      <td>33.9473</td>\n",
       "      <td>-131</td>\n",
       "      <td>97</td>\n",
       "      <td>-118.4008</td>\n",
       "      <td>10</td>\n",
       "      <td>2</td>\n",
       "      <td>...</td>\n",
       "      <td>2PT Field Goal</td>\n",
       "      <td>Left Side Center(LC)</td>\n",
       "      <td>Mid-Range</td>\n",
       "      <td>16-24 ft.</td>\n",
       "      <td>1610612747</td>\n",
       "      <td>Los Angeles Lakers</td>\n",
       "      <td>1996-11-05</td>\n",
       "      <td>LAL @ NYK</td>\n",
       "      <td>NYK</td>\n",
       "      <td>22903</td>\n",
       "    </tr>\n",
       "    <tr>\n",
       "      <th>22903</th>\n",
       "      <td>Jump Shot</td>\n",
       "      <td>Jump Shot</td>\n",
       "      <td>124</td>\n",
       "      <td>29600044</td>\n",
       "      <td>33.8633</td>\n",
       "      <td>-142</td>\n",
       "      <td>181</td>\n",
       "      <td>-118.4118</td>\n",
       "      <td>8</td>\n",
       "      <td>2</td>\n",
       "      <td>...</td>\n",
       "      <td>3PT Field Goal</td>\n",
       "      <td>Left Side Center(LC)</td>\n",
       "      <td>Mid-Range</td>\n",
       "      <td>16-24 ft.</td>\n",
       "      <td>1610612747</td>\n",
       "      <td>Los Angeles Lakers</td>\n",
       "      <td>1996-11-06</td>\n",
       "      <td>LAL @ CHH</td>\n",
       "      <td>CHA</td>\n",
       "      <td>22904</td>\n",
       "    </tr>\n",
       "    <tr>\n",
       "      <th>22904</th>\n",
       "      <td>Jump Shot</td>\n",
       "      <td>Jump Shot</td>\n",
       "      <td>144</td>\n",
       "      <td>29600044</td>\n",
       "      <td>34.0443</td>\n",
       "      <td>0</td>\n",
       "      <td>0</td>\n",
       "      <td>-118.2698</td>\n",
       "      <td>6</td>\n",
       "      <td>2</td>\n",
       "      <td>...</td>\n",
       "      <td>3PT Field Goal</td>\n",
       "      <td>Center(C)</td>\n",
       "      <td>Restricted Area</td>\n",
       "      <td>Less Than 8 ft.</td>\n",
       "      <td>1610612747</td>\n",
       "      <td>Los Angeles Lakers</td>\n",
       "      <td>1996-11-06</td>\n",
       "      <td>LAL @ CHH</td>\n",
       "      <td>CHA</td>\n",
       "      <td>22905</td>\n",
       "    </tr>\n",
       "    <tr>\n",
       "      <th>22905</th>\n",
       "      <td>Jump Shot</td>\n",
       "      <td>Jump Shot</td>\n",
       "      <td>151</td>\n",
       "      <td>29600044</td>\n",
       "      <td>33.9063</td>\n",
       "      <td>-10</td>\n",
       "      <td>138</td>\n",
       "      <td>-118.2798</td>\n",
       "      <td>5</td>\n",
       "      <td>2</td>\n",
       "      <td>...</td>\n",
       "      <td>2PT Field Goal</td>\n",
       "      <td>Center(C)</td>\n",
       "      <td>In The Paint (Non-RA)</td>\n",
       "      <td>8-16 ft.</td>\n",
       "      <td>1610612747</td>\n",
       "      <td>Los Angeles Lakers</td>\n",
       "      <td>1996-11-06</td>\n",
       "      <td>LAL @ CHH</td>\n",
       "      <td>CHA</td>\n",
       "      <td>22906</td>\n",
       "    </tr>\n",
       "  </tbody>\n",
       "</table>\n",
       "<p>5 rows × 25 columns</p>\n",
       "</div>"
      ],
      "text/plain": [
       "      action_type combined_shot_type  game_event_id   game_id      lat  loc_x  \\\n",
       "22901   Jump Shot          Jump Shot            102  29600027  33.9283   -140   \n",
       "22902   Jump Shot          Jump Shot            127  29600031  33.9473   -131   \n",
       "22903   Jump Shot          Jump Shot            124  29600044  33.8633   -142   \n",
       "22904   Jump Shot          Jump Shot            144  29600044  34.0443      0   \n",
       "22905   Jump Shot          Jump Shot            151  29600044  33.9063    -10   \n",
       "\n",
       "       loc_y       lon  minutes_remaining  period   ...          shot_type  \\\n",
       "22901    116 -118.4098                  0       1   ...     2PT Field Goal   \n",
       "22902     97 -118.4008                 10       2   ...     2PT Field Goal   \n",
       "22903    181 -118.4118                  8       2   ...     3PT Field Goal   \n",
       "22904      0 -118.2698                  6       2   ...     3PT Field Goal   \n",
       "22905    138 -118.2798                  5       2   ...     2PT Field Goal   \n",
       "\n",
       "             shot_zone_area        shot_zone_basic  shot_zone_range  \\\n",
       "22901  Left Side Center(LC)              Mid-Range        16-24 ft.   \n",
       "22902  Left Side Center(LC)              Mid-Range        16-24 ft.   \n",
       "22903  Left Side Center(LC)              Mid-Range        16-24 ft.   \n",
       "22904             Center(C)        Restricted Area  Less Than 8 ft.   \n",
       "22905             Center(C)  In The Paint (Non-RA)         8-16 ft.   \n",
       "\n",
       "          team_id           team_name   game_date      matchup opponent  \\\n",
       "22901  1610612747  Los Angeles Lakers  1996-11-03  LAL vs. MIN      MIN   \n",
       "22902  1610612747  Los Angeles Lakers  1996-11-05    LAL @ NYK      NYK   \n",
       "22903  1610612747  Los Angeles Lakers  1996-11-06    LAL @ CHH      CHA   \n",
       "22904  1610612747  Los Angeles Lakers  1996-11-06    LAL @ CHH      CHA   \n",
       "22905  1610612747  Los Angeles Lakers  1996-11-06    LAL @ CHH      CHA   \n",
       "\n",
       "       shot_id  \n",
       "22901    22902  \n",
       "22902    22903  \n",
       "22903    22904  \n",
       "22904    22905  \n",
       "22905    22906  \n",
       "\n",
       "[5 rows x 25 columns]"
      ]
     },
     "execution_count": 2,
     "metadata": {},
     "output_type": "execute_result"
    }
   ],
   "source": [
    "# load data and sort from earliest -> latest game\n",
    "data = pd.read_csv('data.csv')\n",
    "data = data.sort_values(by='game_date')\n",
    "data.head()"
   ]
  },
  {
   "cell_type": "markdown",
   "metadata": {},
   "source": [
    "## Plan:\n",
    "In visualization notebook:\n",
    "- separate train and test data\n",
    "    - use all labeled data for train, all unlabeled for test\n",
    "    - remember to perform all preprocessing on BOTH train and test data together\n",
    "- explore train data\n",
    "    - determine trends\n",
    "    - make visualizations\n",
    "\n",
    "In model notebook:\n",
    "- determine relevant features\n",
    "- preprocess relevant features\n",
    "    - BOTH train and test together\n",
    "- determine model type\n",
    "    - test various models using cross validation\n",
    "        - break train set into train and validation sets\n",
    "    - record best model\n",
    "- make predictions on test set using best model"
   ]
  },
  {
   "cell_type": "code",
   "execution_count": 3,
   "metadata": {},
   "outputs": [],
   "source": [
    "\"\"\" THIS SHOULD BE DONE AFTER PREPROCESSING ALL OF THE DATA \"\"\";\n",
    "# # separate train and test data\n",
    "# train = data[np.isnan(data.shot_made_flag) == False]\n",
    "# test = data[np.isnan(data.shot_made_flag)]\n",
    "\n",
    "# # remove shot_made_flag column from test (all nan)\n",
    "# test = test.drop(['shot_made_flag'], axis=1)"
   ]
  },
  {
   "cell_type": "code",
   "execution_count": 4,
   "metadata": {},
   "outputs": [
    {
     "data": {
      "text/plain": [
       "['action_type',\n",
       " 'combined_shot_type',\n",
       " 'game_event_id',\n",
       " 'game_id',\n",
       " 'lat',\n",
       " 'loc_x',\n",
       " 'loc_y',\n",
       " 'lon',\n",
       " 'minutes_remaining',\n",
       " 'period',\n",
       " 'playoffs',\n",
       " 'season',\n",
       " 'seconds_remaining',\n",
       " 'shot_distance',\n",
       " 'shot_made_flag',\n",
       " 'shot_type',\n",
       " 'shot_zone_area',\n",
       " 'shot_zone_basic',\n",
       " 'shot_zone_range',\n",
       " 'team_id',\n",
       " 'team_name',\n",
       " 'game_date',\n",
       " 'matchup',\n",
       " 'opponent',\n",
       " 'shot_id']"
      ]
     },
     "execution_count": 4,
     "metadata": {},
     "output_type": "execute_result"
    }
   ],
   "source": [
    "list(data)"
   ]
  },
  {
   "cell_type": "markdown",
   "metadata": {},
   "source": [
    "## Features to save:\n",
    "- action_type/combined_shot_type: type of shot\n",
    "    - yes, only use one\n",
    "    - one-hot encode from string\n",
    "- game_event_id/game_id: specific game when shot was taken\n",
    "    - maybe, only use game_id\n",
    "        - 1558 values: corresponds to total number of games Kobe played\n",
    "    - one hot encode from int\n",
    "- lat/lon: lattitude and longitude\n",
    "    - maybe -- is this where in the country the game occured?\n",
    "- loc_x/loc_y: x and y coordinates on court where shot was taken\n",
    "    - yes\n",
    "- minutes_remaining\n",
    "    - yes\n",
    "    - no preprocessing?\n",
    "- period: quarter (or overtime, up to triple overtime (7))\n",
    "    - yes\n",
    "    - one hot encode from int\n",
    "- playoffs\n",
    "    - yes\n",
    "    - already one hot encoded\n",
    "- season: date range in years\n",
    "    - yes\n",
    "    - one-hot encode from string\n",
    "- seconds_remaining\n",
    "    - maybe -- range from 0-59, what is this referring to?\n",
    "- shot_distance: from basket\n",
    "    - yes\n",
    "    - no preprocessing\n",
    "- shot_type: 2pt or 3pt\n",
    "    - yes\n",
    "    - one hot encode\n",
    "- shot_zone_area: left, right, center\n",
    "    - yes\n",
    "    - one hot encode\n",
    "- shot_zone_basic: paint, mid-range, etc.\n",
    "    - yes\n",
    "    - one hot encode\n",
    "- shot_zone_range\n",
    "    - maybe (watch for double counting with distance)\n",
    "    - one hot encode\n",
    "- team_id/team_name: lakers (single value)\n",
    "    - no\n",
    "- game_date: year, month, day\n",
    "    - no\n",
    "- matchup/opponent\n",
    "    - yes\n",
    "    - matchup: opponent AND home (vs) or away (@)\n",
    "    - opponent: just opponent\n",
    "- shot_id: unique value for every shot\n",
    "    - no"
   ]
  },
  {
   "cell_type": "markdown",
   "metadata": {},
   "source": [
    "## Label:\n",
    "- shot_made_flag is the label column"
   ]
  },
  {
   "cell_type": "markdown",
   "metadata": {},
   "source": [
    "## Preprocessing\n",
    "Remember to apply preprocessing on ALL of the data."
   ]
  },
  {
   "cell_type": "code",
   "execution_count": 5,
   "metadata": {},
   "outputs": [],
   "source": [
    "from sklearn.preprocessing import LabelEncoder, OneHotEncoder\n",
    "label_encoder = LabelEncoder()\n",
    "one_hot_encoder = OneHotEncoder()"
   ]
  },
  {
   "cell_type": "code",
   "execution_count": 6,
   "metadata": {},
   "outputs": [],
   "source": [
    "# combined_shot_type: one-hot encode from string\n",
    "combined_shot_type = one_hot_encoder.fit_transform(data.combined_shot_type.values.reshape(-1, 1)).toarray()"
   ]
  },
  {
   "cell_type": "code",
   "execution_count": 7,
   "metadata": {},
   "outputs": [],
   "source": [
    "# period: one-hot encode from int\n",
    "period = one_hot_encoder.fit_transform(data.period.values.reshape(-1, 1)).toarray()"
   ]
  },
  {
   "cell_type": "code",
   "execution_count": 8,
   "metadata": {},
   "outputs": [],
   "source": [
    "# season: one-hot encode from string\n",
    "season = one_hot_encoder.fit_transform(data.season.values.reshape(-1, 1)).toarray()"
   ]
  },
  {
   "cell_type": "code",
   "execution_count": 9,
   "metadata": {},
   "outputs": [],
   "source": [
    "# shot_type: one-hot encode from string\n",
    "shot_type = one_hot_encoder.fit_transform(data.shot_type.values.reshape(-1, 1)).toarray()"
   ]
  },
  {
   "cell_type": "code",
   "execution_count": 10,
   "metadata": {},
   "outputs": [],
   "source": [
    "# shot_zone_area: one-hot encode from string\n",
    "shot_zone_area = one_hot_encoder.fit_transform(data.shot_zone_area.values.reshape(-1, 1)).toarray()"
   ]
  },
  {
   "cell_type": "code",
   "execution_count": 11,
   "metadata": {},
   "outputs": [],
   "source": [
    "# shot_zone_basic: one-hot encode from string\n",
    "shot_zone_basic = one_hot_encoder.fit_transform(data.shot_zone_basic.values.reshape(-1, 1)).toarray()"
   ]
  },
  {
   "cell_type": "code",
   "execution_count": 12,
   "metadata": {},
   "outputs": [],
   "source": [
    "# put all relevant features together\n",
    "X = np.hstack((combined_shot_type,\n",
    "               period,\n",
    "               data.playoffs.values.reshape(-1, 1),\n",
    "               season,\n",
    "               data.shot_distance.values.reshape(-1, 1),\n",
    "               shot_type,\n",
    "               shot_zone_area,\n",
    "               shot_zone_basic))\n",
    "\n",
    "# store labels\n",
    "y = data[np.isnan(data.shot_made_flag) == False].shot_made_flag.values"
   ]
  },
  {
   "cell_type": "code",
   "execution_count": 13,
   "metadata": {},
   "outputs": [
    {
     "data": {
      "text/plain": [
       "((30697, 50), (25697,))"
      ]
     },
     "execution_count": 13,
     "metadata": {},
     "output_type": "execute_result"
    }
   ],
   "source": [
    "X.shape, y.shape"
   ]
  },
  {
   "cell_type": "markdown",
   "metadata": {},
   "source": [
    "## Train/Validation/Test Split"
   ]
  },
  {
   "cell_type": "code",
   "execution_count": 14,
   "metadata": {},
   "outputs": [],
   "source": [
    "# train/test split\n",
    "X_train = X[np.isnan(data.shot_made_flag) == False]\n",
    "X_test = X[np.isnan(data.shot_made_flag) == True]\n",
    "y_train = y"
   ]
  },
  {
   "cell_type": "code",
   "execution_count": 15,
   "metadata": {},
   "outputs": [],
   "source": [
    "# further split train into train/validation\n",
    "from sklearn.model_selection import train_test_split\n",
    "X_train, X_val, y_train, y_val = train_test_split(X_train, y_train, \n",
    "                                                    test_size=0.2, \n",
    "                                                    shuffle=True)"
   ]
  },
  {
   "cell_type": "code",
   "execution_count": 16,
   "metadata": {},
   "outputs": [
    {
     "data": {
      "text/plain": [
       "((20557, 50), (5140, 50), (20557,), (5140,))"
      ]
     },
     "execution_count": 16,
     "metadata": {},
     "output_type": "execute_result"
    }
   ],
   "source": [
    "X_train.shape, X_val.shape, y_train.shape, y_val.shape"
   ]
  },
  {
   "cell_type": "markdown",
   "metadata": {},
   "source": [
    "## Random Forest Model"
   ]
  },
  {
   "cell_type": "code",
   "execution_count": 30,
   "metadata": {},
   "outputs": [
    {
     "data": {
      "text/plain": [
       "0.5577821011673152"
      ]
     },
     "execution_count": 30,
     "metadata": {},
     "output_type": "execute_result"
    }
   ],
   "source": [
    "# accuracy if predicting every shot as a miss\n",
    "from sklearn.metrics import accuracy_score\n",
    "accuracy_score(y_val, np.zeros(y_val.shape))"
   ]
  },
  {
   "cell_type": "code",
   "execution_count": 31,
   "metadata": {},
   "outputs": [
    {
     "data": {
      "text/plain": [
       "0.5585603112840467"
      ]
     },
     "execution_count": 31,
     "metadata": {},
     "output_type": "execute_result"
    }
   ],
   "source": [
    "# random forest\n",
    "from sklearn.ensemble import RandomForestClassifier\n",
    "forest = RandomForestClassifier(n_estimators=100)\n",
    "forest.fit(X_train, y_train)\n",
    "accuracy_score(y_val, forest.predict(X_val))"
   ]
  },
  {
   "cell_type": "code",
   "execution_count": 32,
   "metadata": {},
   "outputs": [
    {
     "data": {
      "text/plain": [
       "0.6118677042801557"
      ]
     },
     "execution_count": 32,
     "metadata": {},
     "output_type": "execute_result"
    }
   ],
   "source": [
    "# svm\n",
    "from sklearn.svm import SVC\n",
    "svm = SVC(kernel='rbf', gamma='auto')\n",
    "svm.fit(X_train, y_train)\n",
    "accuracy_score(y_val, svm.predict(X_val))"
   ]
  },
  {
   "cell_type": "code",
   "execution_count": null,
   "metadata": {},
   "outputs": [],
   "source": [
    "# neural net\n",
    "from sklearn.neural_network import MLPClassifier\n",
    "nn = MLPClassifier(hidden_layer_sizes=(500, 250, 125, 50, 25, 10, 5), max_iter=1000)\n",
    "nn.fit(X_train, y_train)\n",
    "accuracy_score(y_val, nn.predict(X_val))"
   ]
  }
 ],
 "metadata": {
  "kernelspec": {
   "display_name": "Python 3",
   "language": "python",
   "name": "python3"
  },
  "language_info": {
   "codemirror_mode": {
    "name": "ipython",
    "version": 3
   },
   "file_extension": ".py",
   "mimetype": "text/x-python",
   "name": "python",
   "nbconvert_exporter": "python",
   "pygments_lexer": "ipython3",
   "version": "3.6.6"
  }
 },
 "nbformat": 4,
 "nbformat_minor": 2
}
