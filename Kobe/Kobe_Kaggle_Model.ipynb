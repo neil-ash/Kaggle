{
 "cells": [
  {
   "cell_type": "markdown",
   "metadata": {},
   "source": [
    "# Kaggle: Kobe Bryant Shot Selection (Model)"
   ]
  },
  {
   "cell_type": "markdown",
   "metadata": {},
   "source": [
    "This data contains the location and circumstances of every field goal attempted by Kobe Bryant took during his 20-year career. Your task is to predict whether the basket went in (shot_made_flag).\n",
    "\n",
    "We have removed 5000 of the shot_made_flags (represented as missing values in the csv file). These are the test set shots for which you must submit a prediction. You are provided a sample submission file with the correct shot_ids needed for a valid prediction.\n",
    "\n",
    "To avoid leakage, your method should only train on events that occurred prior to the shot for which you are predicting! Since this is a playground competition with public answers, it's up to you to abide by this rule.\n",
    "\n",
    "https://www.kaggle.com/c/kobe-bryant-shot-selection/data"
   ]
  },
  {
   "cell_type": "code",
   "execution_count": 1,
   "metadata": {},
   "outputs": [],
   "source": [
    "import numpy as np\n",
    "import pandas as pd\n",
    "from matplotlib import pyplot as plt\n",
    "from matplotlib import style; style.use('ggplot')"
   ]
  },
  {
   "cell_type": "code",
   "execution_count": 2,
   "metadata": {},
   "outputs": [
    {
     "data": {
      "text/html": [
       "<div>\n",
       "<style scoped>\n",
       "    .dataframe tbody tr th:only-of-type {\n",
       "        vertical-align: middle;\n",
       "    }\n",
       "\n",
       "    .dataframe tbody tr th {\n",
       "        vertical-align: top;\n",
       "    }\n",
       "\n",
       "    .dataframe thead th {\n",
       "        text-align: right;\n",
       "    }\n",
       "</style>\n",
       "<table border=\"1\" class=\"dataframe\">\n",
       "  <thead>\n",
       "    <tr style=\"text-align: right;\">\n",
       "      <th></th>\n",
       "      <th>action_type</th>\n",
       "      <th>combined_shot_type</th>\n",
       "      <th>game_event_id</th>\n",
       "      <th>game_id</th>\n",
       "      <th>lat</th>\n",
       "      <th>loc_x</th>\n",
       "      <th>loc_y</th>\n",
       "      <th>lon</th>\n",
       "      <th>minutes_remaining</th>\n",
       "      <th>period</th>\n",
       "      <th>...</th>\n",
       "      <th>shot_type</th>\n",
       "      <th>shot_zone_area</th>\n",
       "      <th>shot_zone_basic</th>\n",
       "      <th>shot_zone_range</th>\n",
       "      <th>team_id</th>\n",
       "      <th>team_name</th>\n",
       "      <th>game_date</th>\n",
       "      <th>matchup</th>\n",
       "      <th>opponent</th>\n",
       "      <th>shot_id</th>\n",
       "    </tr>\n",
       "  </thead>\n",
       "  <tbody>\n",
       "    <tr>\n",
       "      <th>0</th>\n",
       "      <td>Jump Shot</td>\n",
       "      <td>Jump Shot</td>\n",
       "      <td>10</td>\n",
       "      <td>20000012</td>\n",
       "      <td>33.9723</td>\n",
       "      <td>167</td>\n",
       "      <td>72</td>\n",
       "      <td>-118.1028</td>\n",
       "      <td>10</td>\n",
       "      <td>1</td>\n",
       "      <td>...</td>\n",
       "      <td>2PT Field Goal</td>\n",
       "      <td>Right Side(R)</td>\n",
       "      <td>Mid-Range</td>\n",
       "      <td>16-24 ft.</td>\n",
       "      <td>1610612747</td>\n",
       "      <td>Los Angeles Lakers</td>\n",
       "      <td>2000-10-31</td>\n",
       "      <td>LAL @ POR</td>\n",
       "      <td>POR</td>\n",
       "      <td>1</td>\n",
       "    </tr>\n",
       "    <tr>\n",
       "      <th>1</th>\n",
       "      <td>Jump Shot</td>\n",
       "      <td>Jump Shot</td>\n",
       "      <td>12</td>\n",
       "      <td>20000012</td>\n",
       "      <td>34.0443</td>\n",
       "      <td>-157</td>\n",
       "      <td>0</td>\n",
       "      <td>-118.4268</td>\n",
       "      <td>10</td>\n",
       "      <td>1</td>\n",
       "      <td>...</td>\n",
       "      <td>2PT Field Goal</td>\n",
       "      <td>Left Side(L)</td>\n",
       "      <td>Mid-Range</td>\n",
       "      <td>8-16 ft.</td>\n",
       "      <td>1610612747</td>\n",
       "      <td>Los Angeles Lakers</td>\n",
       "      <td>2000-10-31</td>\n",
       "      <td>LAL @ POR</td>\n",
       "      <td>POR</td>\n",
       "      <td>2</td>\n",
       "    </tr>\n",
       "    <tr>\n",
       "      <th>2</th>\n",
       "      <td>Jump Shot</td>\n",
       "      <td>Jump Shot</td>\n",
       "      <td>35</td>\n",
       "      <td>20000012</td>\n",
       "      <td>33.9093</td>\n",
       "      <td>-101</td>\n",
       "      <td>135</td>\n",
       "      <td>-118.3708</td>\n",
       "      <td>7</td>\n",
       "      <td>1</td>\n",
       "      <td>...</td>\n",
       "      <td>2PT Field Goal</td>\n",
       "      <td>Left Side Center(LC)</td>\n",
       "      <td>Mid-Range</td>\n",
       "      <td>16-24 ft.</td>\n",
       "      <td>1610612747</td>\n",
       "      <td>Los Angeles Lakers</td>\n",
       "      <td>2000-10-31</td>\n",
       "      <td>LAL @ POR</td>\n",
       "      <td>POR</td>\n",
       "      <td>3</td>\n",
       "    </tr>\n",
       "    <tr>\n",
       "      <th>3</th>\n",
       "      <td>Jump Shot</td>\n",
       "      <td>Jump Shot</td>\n",
       "      <td>43</td>\n",
       "      <td>20000012</td>\n",
       "      <td>33.8693</td>\n",
       "      <td>138</td>\n",
       "      <td>175</td>\n",
       "      <td>-118.1318</td>\n",
       "      <td>6</td>\n",
       "      <td>1</td>\n",
       "      <td>...</td>\n",
       "      <td>2PT Field Goal</td>\n",
       "      <td>Right Side Center(RC)</td>\n",
       "      <td>Mid-Range</td>\n",
       "      <td>16-24 ft.</td>\n",
       "      <td>1610612747</td>\n",
       "      <td>Los Angeles Lakers</td>\n",
       "      <td>2000-10-31</td>\n",
       "      <td>LAL @ POR</td>\n",
       "      <td>POR</td>\n",
       "      <td>4</td>\n",
       "    </tr>\n",
       "    <tr>\n",
       "      <th>4</th>\n",
       "      <td>Driving Dunk Shot</td>\n",
       "      <td>Dunk</td>\n",
       "      <td>155</td>\n",
       "      <td>20000012</td>\n",
       "      <td>34.0443</td>\n",
       "      <td>0</td>\n",
       "      <td>0</td>\n",
       "      <td>-118.2698</td>\n",
       "      <td>6</td>\n",
       "      <td>2</td>\n",
       "      <td>...</td>\n",
       "      <td>2PT Field Goal</td>\n",
       "      <td>Center(C)</td>\n",
       "      <td>Restricted Area</td>\n",
       "      <td>Less Than 8 ft.</td>\n",
       "      <td>1610612747</td>\n",
       "      <td>Los Angeles Lakers</td>\n",
       "      <td>2000-10-31</td>\n",
       "      <td>LAL @ POR</td>\n",
       "      <td>POR</td>\n",
       "      <td>5</td>\n",
       "    </tr>\n",
       "  </tbody>\n",
       "</table>\n",
       "<p>5 rows × 25 columns</p>\n",
       "</div>"
      ],
      "text/plain": [
       "         action_type combined_shot_type  game_event_id   game_id      lat  \\\n",
       "0          Jump Shot          Jump Shot             10  20000012  33.9723   \n",
       "1          Jump Shot          Jump Shot             12  20000012  34.0443   \n",
       "2          Jump Shot          Jump Shot             35  20000012  33.9093   \n",
       "3          Jump Shot          Jump Shot             43  20000012  33.8693   \n",
       "4  Driving Dunk Shot               Dunk            155  20000012  34.0443   \n",
       "\n",
       "   loc_x  loc_y       lon  minutes_remaining  period   ...          shot_type  \\\n",
       "0    167     72 -118.1028                 10       1   ...     2PT Field Goal   \n",
       "1   -157      0 -118.4268                 10       1   ...     2PT Field Goal   \n",
       "2   -101    135 -118.3708                  7       1   ...     2PT Field Goal   \n",
       "3    138    175 -118.1318                  6       1   ...     2PT Field Goal   \n",
       "4      0      0 -118.2698                  6       2   ...     2PT Field Goal   \n",
       "\n",
       "          shot_zone_area  shot_zone_basic  shot_zone_range     team_id  \\\n",
       "0          Right Side(R)        Mid-Range        16-24 ft.  1610612747   \n",
       "1           Left Side(L)        Mid-Range         8-16 ft.  1610612747   \n",
       "2   Left Side Center(LC)        Mid-Range        16-24 ft.  1610612747   \n",
       "3  Right Side Center(RC)        Mid-Range        16-24 ft.  1610612747   \n",
       "4              Center(C)  Restricted Area  Less Than 8 ft.  1610612747   \n",
       "\n",
       "            team_name   game_date    matchup opponent  shot_id  \n",
       "0  Los Angeles Lakers  2000-10-31  LAL @ POR      POR        1  \n",
       "1  Los Angeles Lakers  2000-10-31  LAL @ POR      POR        2  \n",
       "2  Los Angeles Lakers  2000-10-31  LAL @ POR      POR        3  \n",
       "3  Los Angeles Lakers  2000-10-31  LAL @ POR      POR        4  \n",
       "4  Los Angeles Lakers  2000-10-31  LAL @ POR      POR        5  \n",
       "\n",
       "[5 rows x 25 columns]"
      ]
     },
     "execution_count": 2,
     "metadata": {},
     "output_type": "execute_result"
    }
   ],
   "source": [
    "# load data (already sorted by shot_id, order is necessary for submission)\n",
    "data = pd.read_csv('data.csv')\n",
    "data.head()"
   ]
  },
  {
   "cell_type": "markdown",
   "metadata": {},
   "source": [
    "## Plan:\n",
    "In visualization notebook:\n",
    "- separate train and test data\n",
    "    - use all labeled data for train, all unlabeled for test\n",
    "    - remember to perform all preprocessing on BOTH train and test data together\n",
    "- explore train data\n",
    "    - determine trends\n",
    "    - make visualizations\n",
    "\n",
    "In model notebook:\n",
    "- determine relevant features\n",
    "- preprocess relevant features\n",
    "    - BOTH train and test together\n",
    "- determine model type\n",
    "    - test various models using cross validation\n",
    "        - break train set into train and validation sets\n",
    "    - record best model\n",
    "- make predictions on test set using best model"
   ]
  },
  {
   "cell_type": "code",
   "execution_count": 3,
   "metadata": {},
   "outputs": [
    {
     "data": {
      "text/plain": [
       "['action_type',\n",
       " 'combined_shot_type',\n",
       " 'game_event_id',\n",
       " 'game_id',\n",
       " 'lat',\n",
       " 'loc_x',\n",
       " 'loc_y',\n",
       " 'lon',\n",
       " 'minutes_remaining',\n",
       " 'period',\n",
       " 'playoffs',\n",
       " 'season',\n",
       " 'seconds_remaining',\n",
       " 'shot_distance',\n",
       " 'shot_made_flag',\n",
       " 'shot_type',\n",
       " 'shot_zone_area',\n",
       " 'shot_zone_basic',\n",
       " 'shot_zone_range',\n",
       " 'team_id',\n",
       " 'team_name',\n",
       " 'game_date',\n",
       " 'matchup',\n",
       " 'opponent',\n",
       " 'shot_id']"
      ]
     },
     "execution_count": 3,
     "metadata": {},
     "output_type": "execute_result"
    }
   ],
   "source": [
    "list(data)"
   ]
  },
  {
   "cell_type": "markdown",
   "metadata": {},
   "source": [
    "## Features to save:\n",
    "- action_type/combined_shot_type: type of shot\n",
    "    - yes, only use one\n",
    "    - one-hot encode from string\n",
    "- game_event_id/game_id: specific game when shot was taken\n",
    "    - maybe, only use game_id\n",
    "        - 1558 values: corresponds to total number of games Kobe played\n",
    "    - one hot encode from int\n",
    "- lat/lon: lattitude and longitude\n",
    "    - maybe -- is this where in the country the game occured?\n",
    "- loc_x/loc_y: x and y coordinates on court where shot was taken\n",
    "    - yes\n",
    "- minutes_remaining\n",
    "    - yes\n",
    "    - no preprocessing?\n",
    "- period: quarter (or overtime, up to triple overtime (7))\n",
    "    - yes\n",
    "    - one hot encode from int\n",
    "- playoffs\n",
    "    - yes\n",
    "    - already one hot encoded\n",
    "- season: date range in years\n",
    "    - yes\n",
    "    - one-hot encode from string\n",
    "- seconds_remaining\n",
    "    - maybe -- range from 0-59, what is this referring to?\n",
    "- shot_distance: from basket\n",
    "    - yes\n",
    "    - no preprocessing\n",
    "- shot_type: 2pt or 3pt\n",
    "    - yes\n",
    "    - one hot encode\n",
    "- shot_zone_area: left, right, center\n",
    "    - yes\n",
    "    - one hot encode\n",
    "- shot_zone_basic: paint, mid-range, etc.\n",
    "    - yes\n",
    "    - one hot encode\n",
    "- shot_zone_range\n",
    "    - maybe (watch for double counting with distance)\n",
    "    - one hot encode\n",
    "- team_id/team_name: lakers (single value)\n",
    "    - no\n",
    "- game_date: year, month, day\n",
    "    - no\n",
    "- matchup/opponent\n",
    "    - yes\n",
    "    - matchup: opponent AND home (vs) or away (@)\n",
    "    - opponent: just opponent\n",
    "- shot_id: unique value for every shot\n",
    "    - no"
   ]
  },
  {
   "cell_type": "markdown",
   "metadata": {},
   "source": [
    "## Label:\n",
    "- shot_made_flag is the label column"
   ]
  },
  {
   "cell_type": "markdown",
   "metadata": {},
   "source": [
    "## Preprocessing\n",
    "Remember to apply preprocessing on ALL of the data."
   ]
  },
  {
   "cell_type": "code",
   "execution_count": 4,
   "metadata": {},
   "outputs": [],
   "source": [
    "from sklearn.preprocessing import LabelEncoder, OneHotEncoder, StandardScaler\n",
    "label_encoder = LabelEncoder()\n",
    "one_hot_encoder = OneHotEncoder()\n",
    "scaler = StandardScaler()"
   ]
  },
  {
   "cell_type": "code",
   "execution_count": 5,
   "metadata": {},
   "outputs": [],
   "source": [
    "# combined_shot_type: one-hot encode from string\n",
    "combined_shot_type = one_hot_encoder.fit_transform(data.combined_shot_type.values.reshape(-1, 1)).toarray()"
   ]
  },
  {
   "cell_type": "code",
   "execution_count": 6,
   "metadata": {},
   "outputs": [],
   "source": [
    "# period: one-hot encode from int\n",
    "period = one_hot_encoder.fit_transform(data.period.values.reshape(-1, 1)).toarray()"
   ]
  },
  {
   "cell_type": "code",
   "execution_count": 7,
   "metadata": {},
   "outputs": [],
   "source": [
    "# season: one-hot encode from string\n",
    "season = one_hot_encoder.fit_transform(data.season.values.reshape(-1, 1)).toarray()"
   ]
  },
  {
   "cell_type": "code",
   "execution_count": 8,
   "metadata": {},
   "outputs": [],
   "source": [
    "# shot zone distance: scale\n",
    "shot_distance = scaler.fit_transform(data.shot_distance.values.reshape(-1, 1).astype(np.float64))"
   ]
  },
  {
   "cell_type": "code",
   "execution_count": 9,
   "metadata": {},
   "outputs": [],
   "source": [
    "# shot_type: one-hot encode from string\n",
    "shot_type = one_hot_encoder.fit_transform(data.shot_type.values.reshape(-1, 1)).toarray()"
   ]
  },
  {
   "cell_type": "code",
   "execution_count": 10,
   "metadata": {},
   "outputs": [],
   "source": [
    "# shot_zone_area: one-hot encode from string\n",
    "shot_zone_area = one_hot_encoder.fit_transform(data.shot_zone_area.values.reshape(-1, 1)).toarray()"
   ]
  },
  {
   "cell_type": "code",
   "execution_count": 11,
   "metadata": {},
   "outputs": [],
   "source": [
    "# shot_zone_basic: one-hot encode from string\n",
    "shot_zone_basic = one_hot_encoder.fit_transform(data.shot_zone_basic.values.reshape(-1, 1)).toarray()"
   ]
  },
  {
   "cell_type": "code",
   "execution_count": 12,
   "metadata": {},
   "outputs": [],
   "source": [
    "# put all relevant features together\n",
    "X = np.hstack((combined_shot_type,\n",
    "               period,\n",
    "               data.playoffs.values.reshape(-1, 1),\n",
    "               season,\n",
    "               shot_distance,\n",
    "               shot_type,\n",
    "               shot_zone_area,\n",
    "               shot_zone_basic))\n",
    "\n",
    "# store labels\n",
    "y = data[np.isnan(data.shot_made_flag) == False].shot_made_flag.values"
   ]
  },
  {
   "cell_type": "code",
   "execution_count": 13,
   "metadata": {},
   "outputs": [
    {
     "data": {
      "text/plain": [
       "((30697, 50), (25697,))"
      ]
     },
     "execution_count": 13,
     "metadata": {},
     "output_type": "execute_result"
    }
   ],
   "source": [
    "X.shape, y.shape"
   ]
  },
  {
   "cell_type": "code",
   "execution_count": 14,
   "metadata": {},
   "outputs": [
    {
     "data": {
      "text/plain": [
       "array([[ 0.        ,  0.        ,  0.        ,  1.        ,  0.        ,\n",
       "         0.        ,  1.        ,  0.        ,  0.        ,  0.        ,\n",
       "         0.        ,  0.        ,  0.        ,  0.        ,  0.        ,\n",
       "         0.        ,  0.        ,  0.        ,  1.        ,  0.        ,\n",
       "         0.        ,  0.        ,  0.        ,  0.        ,  0.        ,\n",
       "         0.        ,  0.        ,  0.        ,  0.        ,  0.        ,\n",
       "         0.        ,  0.        ,  0.        ,  0.        ,  0.48672341,\n",
       "         1.        ,  0.        ,  0.        ,  0.        ,  0.        ,\n",
       "         0.        ,  0.        ,  1.        ,  0.        ,  0.        ,\n",
       "         0.        ,  0.        ,  1.        ,  0.        ,  0.        ],\n",
       "       [ 0.        ,  0.        ,  0.        ,  1.        ,  0.        ,\n",
       "         0.        ,  1.        ,  0.        ,  0.        ,  0.        ,\n",
       "         0.        ,  0.        ,  0.        ,  0.        ,  0.        ,\n",
       "         0.        ,  0.        ,  0.        ,  1.        ,  0.        ,\n",
       "         0.        ,  0.        ,  0.        ,  0.        ,  0.        ,\n",
       "         0.        ,  0.        ,  0.        ,  0.        ,  0.        ,\n",
       "         0.        ,  0.        ,  0.        ,  0.        ,  0.16669053,\n",
       "         1.        ,  0.        ,  0.        ,  0.        ,  0.        ,\n",
       "         1.        ,  0.        ,  0.        ,  0.        ,  0.        ,\n",
       "         0.        ,  0.        ,  1.        ,  0.        ,  0.        ],\n",
       "       [ 0.        ,  0.        ,  0.        ,  1.        ,  0.        ,\n",
       "         0.        ,  1.        ,  0.        ,  0.        ,  0.        ,\n",
       "         0.        ,  0.        ,  0.        ,  0.        ,  0.        ,\n",
       "         0.        ,  0.        ,  0.        ,  1.        ,  0.        ,\n",
       "         0.        ,  0.        ,  0.        ,  0.        ,  0.        ,\n",
       "         0.        ,  0.        ,  0.        ,  0.        ,  0.        ,\n",
       "         0.        ,  0.        ,  0.        ,  0.        ,  0.27336815,\n",
       "         1.        ,  0.        ,  0.        ,  0.        ,  1.        ,\n",
       "         0.        ,  0.        ,  0.        ,  0.        ,  0.        ,\n",
       "         0.        ,  0.        ,  1.        ,  0.        ,  0.        ],\n",
       "       [ 0.        ,  0.        ,  0.        ,  1.        ,  0.        ,\n",
       "         0.        ,  1.        ,  0.        ,  0.        ,  0.        ,\n",
       "         0.        ,  0.        ,  0.        ,  0.        ,  0.        ,\n",
       "         0.        ,  0.        ,  0.        ,  1.        ,  0.        ,\n",
       "         0.        ,  0.        ,  0.        ,  0.        ,  0.        ,\n",
       "         0.        ,  0.        ,  0.        ,  0.        ,  0.        ,\n",
       "         0.        ,  0.        ,  0.        ,  0.        ,  0.91343392,\n",
       "         1.        ,  0.        ,  0.        ,  0.        ,  0.        ,\n",
       "         0.        ,  1.        ,  0.        ,  0.        ,  0.        ,\n",
       "         0.        ,  0.        ,  1.        ,  0.        ,  0.        ],\n",
       "       [ 0.        ,  1.        ,  0.        ,  0.        ,  0.        ,\n",
       "         0.        ,  0.        ,  1.        ,  0.        ,  0.        ,\n",
       "         0.        ,  0.        ,  0.        ,  0.        ,  0.        ,\n",
       "         0.        ,  0.        ,  0.        ,  1.        ,  0.        ,\n",
       "         0.        ,  0.        ,  0.        ,  0.        ,  0.        ,\n",
       "         0.        ,  0.        ,  0.        ,  0.        ,  0.        ,\n",
       "         0.        ,  0.        ,  0.        ,  0.        , -1.43347389,\n",
       "         1.        ,  0.        ,  0.        ,  1.        ,  0.        ,\n",
       "         0.        ,  0.        ,  0.        ,  0.        ,  0.        ,\n",
       "         0.        ,  0.        ,  0.        ,  1.        ,  0.        ]])"
      ]
     },
     "execution_count": 14,
     "metadata": {},
     "output_type": "execute_result"
    }
   ],
   "source": [
    "X[:5]"
   ]
  },
  {
   "cell_type": "markdown",
   "metadata": {},
   "source": [
    "## Train/Validation/Test Split"
   ]
  },
  {
   "cell_type": "code",
   "execution_count": 15,
   "metadata": {},
   "outputs": [],
   "source": [
    "# train/test split\n",
    "X_train = X[np.isnan(data.shot_made_flag) == False]\n",
    "y_train = y\n",
    "X_test = X[np.isnan(data.shot_made_flag) == True]"
   ]
  },
  {
   "cell_type": "code",
   "execution_count": 16,
   "metadata": {},
   "outputs": [],
   "source": [
    "# save train set before splitting into train and validation (to train final model)\n",
    "old_X_train = X_train\n",
    "old_y_train = y_train\n",
    "\n",
    "# further split train into train/validation\n",
    "from sklearn.model_selection import train_test_split\n",
    "X_train, X_val, y_train, y_val = train_test_split(X_train, y_train, \n",
    "                                                    test_size=0.2, \n",
    "                                                    shuffle=True)"
   ]
  },
  {
   "cell_type": "code",
   "execution_count": 17,
   "metadata": {},
   "outputs": [
    {
     "data": {
      "text/plain": [
       "((20557, 50), (5140, 50), (20557,), (5140,))"
      ]
     },
     "execution_count": 17,
     "metadata": {},
     "output_type": "execute_result"
    }
   ],
   "source": [
    "X_train.shape, X_val.shape, y_train.shape, y_val.shape"
   ]
  },
  {
   "cell_type": "markdown",
   "metadata": {},
   "source": [
    "## Models"
   ]
  },
  {
   "cell_type": "code",
   "execution_count": 18,
   "metadata": {},
   "outputs": [
    {
     "data": {
      "text/plain": [
       "(0.5426070038910505, 0.6931471805599453)"
      ]
     },
     "execution_count": 18,
     "metadata": {},
     "output_type": "execute_result"
    }
   ],
   "source": [
    "# performance if predicting every shot as a miss, 50% chance of every shot going in\n",
    "from sklearn.metrics import accuracy_score, log_loss\n",
    "accuracy_score(y_val, np.zeros(y_val.shape)), log_loss(y_val, np.full((y_val.shape), 0.5))"
   ]
  },
  {
   "cell_type": "markdown",
   "metadata": {},
   "source": [
    "If we predict every shot as a miss, we get 54.7% accuracy\n",
    "\n",
    "If we predict that every shot has a 50% chance of going in, we get a log loss of 0.69"
   ]
  },
  {
   "cell_type": "code",
   "execution_count": 26,
   "metadata": {},
   "outputs": [
    {
     "data": {
      "text/plain": [
       "(0.5603112840466926, 2.0302947705188616)"
      ]
     },
     "execution_count": 26,
     "metadata": {},
     "output_type": "execute_result"
    }
   ],
   "source": [
    "# knn\n",
    "from sklearn.neighbors import KNeighborsClassifier\n",
    "knn = KNeighborsClassifier(n_neighbors=5)\n",
    "knn.fit(X_train, y_train)\n",
    "\n",
    "# performance\n",
    "accuracy_score(y_val, knn.predict(X_val)), log_loss(y_val, knn.predict_proba(X_val))"
   ]
  },
  {
   "cell_type": "code",
   "execution_count": 24,
   "metadata": {},
   "outputs": [
    {
     "data": {
      "text/plain": [
       "(0.6093385214007782, 0.6519189265799309)"
      ]
     },
     "execution_count": 24,
     "metadata": {},
     "output_type": "execute_result"
    }
   ],
   "source": [
    "# logistic regression\n",
    "from sklearn.linear_model import LogisticRegression\n",
    "log_reg = LogisticRegression(C=1, solver='lbfgs', max_iter=1000)\n",
    "log_reg.fit(X_train, y_train)\n",
    "\n",
    "# performance\n",
    "accuracy_score(y_val, log_reg.predict(X_val)), log_loss(y_val, log_reg.predict_proba(X_val))"
   ]
  },
  {
   "cell_type": "code",
   "execution_count": 19,
   "metadata": {},
   "outputs": [
    {
     "data": {
      "text/plain": [
       "(0.5601167315175097, 7.077027527077232)"
      ]
     },
     "execution_count": 19,
     "metadata": {},
     "output_type": "execute_result"
    }
   ],
   "source": [
    "# decision tree\n",
    "from sklearn.tree import DecisionTreeClassifier\n",
    "tree = DecisionTreeClassifier()\n",
    "tree.fit(X_train, y_train)\n",
    "\n",
    "# performance\n",
    "accuracy_score(y_val, tree.predict(X_val)), log_loss(y_val, tree.predict_proba(X_val))"
   ]
  },
  {
   "cell_type": "code",
   "execution_count": 20,
   "metadata": {},
   "outputs": [
    {
     "data": {
      "text/plain": [
       "(0.5651750972762646, 0.9169348015770168)"
      ]
     },
     "execution_count": 20,
     "metadata": {},
     "output_type": "execute_result"
    }
   ],
   "source": [
    "# random forest\n",
    "from sklearn.ensemble import RandomForestClassifier\n",
    "forest = RandomForestClassifier(n_estimators=500)\n",
    "forest.fit(X_train, y_train)\n",
    "\n",
    "# performance\n",
    "accuracy_score(y_val, forest.predict(X_val)), log_loss(y_val, forest.predict_proba(X_val))"
   ]
  },
  {
   "cell_type": "code",
   "execution_count": 27,
   "metadata": {},
   "outputs": [
    {
     "data": {
      "text/plain": [
       "(0.6095330739299611, 0.6684616628629411)"
      ]
     },
     "execution_count": 27,
     "metadata": {},
     "output_type": "execute_result"
    }
   ],
   "source": [
    "# svm\n",
    "from sklearn.svm import SVC\n",
    "svm = SVC(kernel='rbf', gamma='auto', probability=True)\n",
    "svm.fit(X_train, y_train)\n",
    "\n",
    "# performance\n",
    "accuracy_score(y_val, svm.predict(X_val)), log_loss(y_val, svm.predict_proba(X_val))"
   ]
  },
  {
   "cell_type": "code",
   "execution_count": 23,
   "metadata": {},
   "outputs": [
    {
     "data": {
      "text/plain": [
       "(0.5706225680933852, 0.6873192912715441)"
      ]
     },
     "execution_count": 23,
     "metadata": {},
     "output_type": "execute_result"
    }
   ],
   "source": [
    "# neural net\n",
    "from sklearn.neural_network import MLPClassifier\n",
    "nn = MLPClassifier(hidden_layer_sizes=(25, 10, 5), max_iter=1000)\n",
    "nn.fit(X_train, y_train)\n",
    "\n",
    "# performance\n",
    "accuracy_score(y_val, nn.predict(X_val)), log_loss(y_val, nn.predict_proba(X_val))"
   ]
  },
  {
   "cell_type": "markdown",
   "metadata": {},
   "source": [
    "Surprisingly, logistic regression returns the best results on this dataset.\n",
    "\n",
    "Our logistic regression model outperforms a classifier that simply guesses 'all misses' or '50/50 for every shot'.\n",
    "\n",
    "But...it's not that much better!\n",
    "\n",
    "Note that a classifier like a SVM returns a slightly higher accuracy. However, the Kaggle competition is not scored on accuracy -- it's scored on log loss. Logistic regression returns the lowest log loss, making it the best model thus far."
   ]
  },
  {
   "cell_type": "markdown",
   "metadata": {},
   "source": [
    "## Predictions"
   ]
  },
  {
   "cell_type": "code",
   "execution_count": 34,
   "metadata": {},
   "outputs": [],
   "source": [
    "# train logistic regression on all data, then make predictions\n",
    "log_reg.fit(old_X_train, old_y_train)\n",
    "predictions = log_reg.predict_proba(X_test)"
   ]
  },
  {
   "cell_type": "code",
   "execution_count": 35,
   "metadata": {},
   "outputs": [
    {
     "data": {
      "text/plain": [
       "array([[0.58915135, 0.41084865],\n",
       "       [0.56773341, 0.43226659],\n",
       "       [0.41191287, 0.58808713],\n",
       "       [0.42390449, 0.57609551],\n",
       "       [0.58567585, 0.41432415],\n",
       "       [0.56325008, 0.43674992],\n",
       "       [0.41539102, 0.58460898],\n",
       "       [0.41539102, 0.58460898],\n",
       "       [0.41191287, 0.58808713],\n",
       "       [0.58212952, 0.41787048]])"
      ]
     },
     "execution_count": 35,
     "metadata": {},
     "output_type": "execute_result"
    }
   ],
   "source": [
    "predictions[:10, :]"
   ]
  },
  {
   "cell_type": "code",
   "execution_count": 36,
   "metadata": {},
   "outputs": [
    {
     "data": {
      "text/html": [
       "<div>\n",
       "<style scoped>\n",
       "    .dataframe tbody tr th:only-of-type {\n",
       "        vertical-align: middle;\n",
       "    }\n",
       "\n",
       "    .dataframe tbody tr th {\n",
       "        vertical-align: top;\n",
       "    }\n",
       "\n",
       "    .dataframe thead th {\n",
       "        text-align: right;\n",
       "    }\n",
       "</style>\n",
       "<table border=\"1\" class=\"dataframe\">\n",
       "  <thead>\n",
       "    <tr style=\"text-align: right;\">\n",
       "      <th></th>\n",
       "      <th>action_type</th>\n",
       "      <th>combined_shot_type</th>\n",
       "      <th>game_event_id</th>\n",
       "      <th>game_id</th>\n",
       "      <th>lat</th>\n",
       "      <th>loc_x</th>\n",
       "      <th>loc_y</th>\n",
       "      <th>lon</th>\n",
       "      <th>minutes_remaining</th>\n",
       "      <th>period</th>\n",
       "      <th>...</th>\n",
       "      <th>shot_type</th>\n",
       "      <th>shot_zone_area</th>\n",
       "      <th>shot_zone_basic</th>\n",
       "      <th>shot_zone_range</th>\n",
       "      <th>team_id</th>\n",
       "      <th>team_name</th>\n",
       "      <th>game_date</th>\n",
       "      <th>matchup</th>\n",
       "      <th>opponent</th>\n",
       "      <th>shot_id</th>\n",
       "    </tr>\n",
       "  </thead>\n",
       "  <tbody>\n",
       "    <tr>\n",
       "      <th>0</th>\n",
       "      <td>Jump Shot</td>\n",
       "      <td>Jump Shot</td>\n",
       "      <td>10</td>\n",
       "      <td>20000012</td>\n",
       "      <td>33.9723</td>\n",
       "      <td>167</td>\n",
       "      <td>72</td>\n",
       "      <td>-118.1028</td>\n",
       "      <td>10</td>\n",
       "      <td>1</td>\n",
       "      <td>...</td>\n",
       "      <td>2PT Field Goal</td>\n",
       "      <td>Right Side(R)</td>\n",
       "      <td>Mid-Range</td>\n",
       "      <td>16-24 ft.</td>\n",
       "      <td>1610612747</td>\n",
       "      <td>Los Angeles Lakers</td>\n",
       "      <td>2000-10-31</td>\n",
       "      <td>LAL @ POR</td>\n",
       "      <td>POR</td>\n",
       "      <td>1</td>\n",
       "    </tr>\n",
       "    <tr>\n",
       "      <th>7</th>\n",
       "      <td>Jump Shot</td>\n",
       "      <td>Jump Shot</td>\n",
       "      <td>254</td>\n",
       "      <td>20000012</td>\n",
       "      <td>34.0163</td>\n",
       "      <td>1</td>\n",
       "      <td>28</td>\n",
       "      <td>-118.2688</td>\n",
       "      <td>8</td>\n",
       "      <td>3</td>\n",
       "      <td>...</td>\n",
       "      <td>2PT Field Goal</td>\n",
       "      <td>Center(C)</td>\n",
       "      <td>Restricted Area</td>\n",
       "      <td>Less Than 8 ft.</td>\n",
       "      <td>1610612747</td>\n",
       "      <td>Los Angeles Lakers</td>\n",
       "      <td>2000-10-31</td>\n",
       "      <td>LAL @ POR</td>\n",
       "      <td>POR</td>\n",
       "      <td>8</td>\n",
       "    </tr>\n",
       "    <tr>\n",
       "      <th>16</th>\n",
       "      <td>Driving Layup Shot</td>\n",
       "      <td>Layup</td>\n",
       "      <td>100</td>\n",
       "      <td>20000019</td>\n",
       "      <td>34.0443</td>\n",
       "      <td>0</td>\n",
       "      <td>0</td>\n",
       "      <td>-118.2698</td>\n",
       "      <td>0</td>\n",
       "      <td>1</td>\n",
       "      <td>...</td>\n",
       "      <td>2PT Field Goal</td>\n",
       "      <td>Center(C)</td>\n",
       "      <td>Restricted Area</td>\n",
       "      <td>Less Than 8 ft.</td>\n",
       "      <td>1610612747</td>\n",
       "      <td>Los Angeles Lakers</td>\n",
       "      <td>2000-11-01</td>\n",
       "      <td>LAL vs. UTA</td>\n",
       "      <td>UTA</td>\n",
       "      <td>17</td>\n",
       "    </tr>\n",
       "    <tr>\n",
       "      <th>19</th>\n",
       "      <td>Driving Layup Shot</td>\n",
       "      <td>Layup</td>\n",
       "      <td>249</td>\n",
       "      <td>20000019</td>\n",
       "      <td>34.0443</td>\n",
       "      <td>0</td>\n",
       "      <td>0</td>\n",
       "      <td>-118.2698</td>\n",
       "      <td>10</td>\n",
       "      <td>3</td>\n",
       "      <td>...</td>\n",
       "      <td>2PT Field Goal</td>\n",
       "      <td>Center(C)</td>\n",
       "      <td>Restricted Area</td>\n",
       "      <td>Less Than 8 ft.</td>\n",
       "      <td>1610612747</td>\n",
       "      <td>Los Angeles Lakers</td>\n",
       "      <td>2000-11-01</td>\n",
       "      <td>LAL vs. UTA</td>\n",
       "      <td>UTA</td>\n",
       "      <td>20</td>\n",
       "    </tr>\n",
       "    <tr>\n",
       "      <th>32</th>\n",
       "      <td>Jump Shot</td>\n",
       "      <td>Jump Shot</td>\n",
       "      <td>4</td>\n",
       "      <td>20000047</td>\n",
       "      <td>33.9683</td>\n",
       "      <td>163</td>\n",
       "      <td>76</td>\n",
       "      <td>-118.1068</td>\n",
       "      <td>11</td>\n",
       "      <td>1</td>\n",
       "      <td>...</td>\n",
       "      <td>2PT Field Goal</td>\n",
       "      <td>Right Side(R)</td>\n",
       "      <td>Mid-Range</td>\n",
       "      <td>16-24 ft.</td>\n",
       "      <td>1610612747</td>\n",
       "      <td>Los Angeles Lakers</td>\n",
       "      <td>2000-11-04</td>\n",
       "      <td>LAL @ VAN</td>\n",
       "      <td>VAN</td>\n",
       "      <td>33</td>\n",
       "    </tr>\n",
       "    <tr>\n",
       "      <th>33</th>\n",
       "      <td>Jump Shot</td>\n",
       "      <td>Jump Shot</td>\n",
       "      <td>8</td>\n",
       "      <td>20000047</td>\n",
       "      <td>33.8503</td>\n",
       "      <td>70</td>\n",
       "      <td>194</td>\n",
       "      <td>-118.1998</td>\n",
       "      <td>10</td>\n",
       "      <td>1</td>\n",
       "      <td>...</td>\n",
       "      <td>2PT Field Goal</td>\n",
       "      <td>Right Side Center(RC)</td>\n",
       "      <td>Mid-Range</td>\n",
       "      <td>16-24 ft.</td>\n",
       "      <td>1610612747</td>\n",
       "      <td>Los Angeles Lakers</td>\n",
       "      <td>2000-11-04</td>\n",
       "      <td>LAL @ VAN</td>\n",
       "      <td>VAN</td>\n",
       "      <td>34</td>\n",
       "    </tr>\n",
       "    <tr>\n",
       "      <th>34</th>\n",
       "      <td>Layup Shot</td>\n",
       "      <td>Layup</td>\n",
       "      <td>26</td>\n",
       "      <td>20000047</td>\n",
       "      <td>34.0253</td>\n",
       "      <td>1</td>\n",
       "      <td>19</td>\n",
       "      <td>-118.2688</td>\n",
       "      <td>7</td>\n",
       "      <td>1</td>\n",
       "      <td>...</td>\n",
       "      <td>2PT Field Goal</td>\n",
       "      <td>Center(C)</td>\n",
       "      <td>Restricted Area</td>\n",
       "      <td>Less Than 8 ft.</td>\n",
       "      <td>1610612747</td>\n",
       "      <td>Los Angeles Lakers</td>\n",
       "      <td>2000-11-04</td>\n",
       "      <td>LAL @ VAN</td>\n",
       "      <td>VAN</td>\n",
       "      <td>35</td>\n",
       "    </tr>\n",
       "    <tr>\n",
       "      <th>35</th>\n",
       "      <td>Layup Shot</td>\n",
       "      <td>Layup</td>\n",
       "      <td>37</td>\n",
       "      <td>20000047</td>\n",
       "      <td>34.0293</td>\n",
       "      <td>-12</td>\n",
       "      <td>15</td>\n",
       "      <td>-118.2818</td>\n",
       "      <td>5</td>\n",
       "      <td>1</td>\n",
       "      <td>...</td>\n",
       "      <td>2PT Field Goal</td>\n",
       "      <td>Center(C)</td>\n",
       "      <td>Restricted Area</td>\n",
       "      <td>Less Than 8 ft.</td>\n",
       "      <td>1610612747</td>\n",
       "      <td>Los Angeles Lakers</td>\n",
       "      <td>2000-11-04</td>\n",
       "      <td>LAL @ VAN</td>\n",
       "      <td>VAN</td>\n",
       "      <td>36</td>\n",
       "    </tr>\n",
       "    <tr>\n",
       "      <th>36</th>\n",
       "      <td>Reverse Layup Shot</td>\n",
       "      <td>Layup</td>\n",
       "      <td>53</td>\n",
       "      <td>20000047</td>\n",
       "      <td>34.0403</td>\n",
       "      <td>1</td>\n",
       "      <td>4</td>\n",
       "      <td>-118.2688</td>\n",
       "      <td>4</td>\n",
       "      <td>1</td>\n",
       "      <td>...</td>\n",
       "      <td>2PT Field Goal</td>\n",
       "      <td>Center(C)</td>\n",
       "      <td>Restricted Area</td>\n",
       "      <td>Less Than 8 ft.</td>\n",
       "      <td>1610612747</td>\n",
       "      <td>Los Angeles Lakers</td>\n",
       "      <td>2000-11-04</td>\n",
       "      <td>LAL @ VAN</td>\n",
       "      <td>VAN</td>\n",
       "      <td>37</td>\n",
       "    </tr>\n",
       "    <tr>\n",
       "      <th>37</th>\n",
       "      <td>Jump Shot</td>\n",
       "      <td>Jump Shot</td>\n",
       "      <td>165</td>\n",
       "      <td>20000047</td>\n",
       "      <td>33.9283</td>\n",
       "      <td>-117</td>\n",
       "      <td>116</td>\n",
       "      <td>-118.3868</td>\n",
       "      <td>5</td>\n",
       "      <td>2</td>\n",
       "      <td>...</td>\n",
       "      <td>2PT Field Goal</td>\n",
       "      <td>Left Side Center(LC)</td>\n",
       "      <td>Mid-Range</td>\n",
       "      <td>16-24 ft.</td>\n",
       "      <td>1610612747</td>\n",
       "      <td>Los Angeles Lakers</td>\n",
       "      <td>2000-11-04</td>\n",
       "      <td>LAL @ VAN</td>\n",
       "      <td>VAN</td>\n",
       "      <td>38</td>\n",
       "    </tr>\n",
       "  </tbody>\n",
       "</table>\n",
       "<p>10 rows × 25 columns</p>\n",
       "</div>"
      ],
      "text/plain": [
       "           action_type combined_shot_type  game_event_id   game_id      lat  \\\n",
       "0            Jump Shot          Jump Shot             10  20000012  33.9723   \n",
       "7            Jump Shot          Jump Shot            254  20000012  34.0163   \n",
       "16  Driving Layup Shot              Layup            100  20000019  34.0443   \n",
       "19  Driving Layup Shot              Layup            249  20000019  34.0443   \n",
       "32           Jump Shot          Jump Shot              4  20000047  33.9683   \n",
       "33           Jump Shot          Jump Shot              8  20000047  33.8503   \n",
       "34          Layup Shot              Layup             26  20000047  34.0253   \n",
       "35          Layup Shot              Layup             37  20000047  34.0293   \n",
       "36  Reverse Layup Shot              Layup             53  20000047  34.0403   \n",
       "37           Jump Shot          Jump Shot            165  20000047  33.9283   \n",
       "\n",
       "    loc_x  loc_y       lon  minutes_remaining  period   ...     \\\n",
       "0     167     72 -118.1028                 10       1   ...      \n",
       "7       1     28 -118.2688                  8       3   ...      \n",
       "16      0      0 -118.2698                  0       1   ...      \n",
       "19      0      0 -118.2698                 10       3   ...      \n",
       "32    163     76 -118.1068                 11       1   ...      \n",
       "33     70    194 -118.1998                 10       1   ...      \n",
       "34      1     19 -118.2688                  7       1   ...      \n",
       "35    -12     15 -118.2818                  5       1   ...      \n",
       "36      1      4 -118.2688                  4       1   ...      \n",
       "37   -117    116 -118.3868                  5       2   ...      \n",
       "\n",
       "         shot_type         shot_zone_area  shot_zone_basic  shot_zone_range  \\\n",
       "0   2PT Field Goal          Right Side(R)        Mid-Range        16-24 ft.   \n",
       "7   2PT Field Goal              Center(C)  Restricted Area  Less Than 8 ft.   \n",
       "16  2PT Field Goal              Center(C)  Restricted Area  Less Than 8 ft.   \n",
       "19  2PT Field Goal              Center(C)  Restricted Area  Less Than 8 ft.   \n",
       "32  2PT Field Goal          Right Side(R)        Mid-Range        16-24 ft.   \n",
       "33  2PT Field Goal  Right Side Center(RC)        Mid-Range        16-24 ft.   \n",
       "34  2PT Field Goal              Center(C)  Restricted Area  Less Than 8 ft.   \n",
       "35  2PT Field Goal              Center(C)  Restricted Area  Less Than 8 ft.   \n",
       "36  2PT Field Goal              Center(C)  Restricted Area  Less Than 8 ft.   \n",
       "37  2PT Field Goal   Left Side Center(LC)        Mid-Range        16-24 ft.   \n",
       "\n",
       "       team_id           team_name   game_date      matchup opponent  shot_id  \n",
       "0   1610612747  Los Angeles Lakers  2000-10-31    LAL @ POR      POR        1  \n",
       "7   1610612747  Los Angeles Lakers  2000-10-31    LAL @ POR      POR        8  \n",
       "16  1610612747  Los Angeles Lakers  2000-11-01  LAL vs. UTA      UTA       17  \n",
       "19  1610612747  Los Angeles Lakers  2000-11-01  LAL vs. UTA      UTA       20  \n",
       "32  1610612747  Los Angeles Lakers  2000-11-04    LAL @ VAN      VAN       33  \n",
       "33  1610612747  Los Angeles Lakers  2000-11-04    LAL @ VAN      VAN       34  \n",
       "34  1610612747  Los Angeles Lakers  2000-11-04    LAL @ VAN      VAN       35  \n",
       "35  1610612747  Los Angeles Lakers  2000-11-04    LAL @ VAN      VAN       36  \n",
       "36  1610612747  Los Angeles Lakers  2000-11-04    LAL @ VAN      VAN       37  \n",
       "37  1610612747  Los Angeles Lakers  2000-11-04    LAL @ VAN      VAN       38  \n",
       "\n",
       "[10 rows x 25 columns]"
      ]
     },
     "execution_count": 36,
     "metadata": {},
     "output_type": "execute_result"
    }
   ],
   "source": [
    "test_df = data[np.isnan(data.shot_made_flag)]\n",
    "test_df.iloc[:10, :]"
   ]
  },
  {
   "cell_type": "markdown",
   "metadata": {},
   "source": [
    "Based on above two cells, predictions in form [P(miss), P(make)], same as [P(0), P(1)]\n",
    "\n",
    "Only save P(make)? Yes! The competition wants us to submit our probability predictions that a shot was made."
   ]
  },
  {
   "cell_type": "code",
   "execution_count": 37,
   "metadata": {},
   "outputs": [],
   "source": [
    "# setup np array for submission\n",
    "submission = np.hstack((test_df.shot_id.values.reshape(-1, 1).astype(object), \n",
    "                        predictions[:, -1].reshape(-1, 1).astype(object)))\n",
    "\n",
    "submission = np.vstack((np.array(['shot_id', 'shot_made_flag']),\n",
    "                       submission))"
   ]
  },
  {
   "cell_type": "code",
   "execution_count": 38,
   "metadata": {},
   "outputs": [
    {
     "data": {
      "text/plain": [
       "array([['shot_id', 'shot_made_flag'],\n",
       "       [1, 0.410848654677504],\n",
       "       [8, 0.4322665897126771],\n",
       "       ...,\n",
       "       [30683, 0.4242639984763863],\n",
       "       [30687, 0.44639422591920835],\n",
       "       [30694, 0.336613051363384]], dtype=object)"
      ]
     },
     "execution_count": 38,
     "metadata": {},
     "output_type": "execute_result"
    }
   ],
   "source": [
    "submission"
   ]
  },
  {
   "cell_type": "code",
   "execution_count": 39,
   "metadata": {},
   "outputs": [],
   "source": [
    "\"\"\" ONLY RUN WHEN READY TO WRITE TO FILE \"\"\"\n",
    "# write predictions and indices to csv\n",
    "np.savetxt('log_reg_kobe_predictions2.csv', \n",
    "           submission, \n",
    "           delimiter=',', \n",
    "           fmt='%s')"
   ]
  },
  {
   "cell_type": "markdown",
   "metadata": {},
   "source": [
    "## Results\n",
    "Our logistic regression model resulted in a competition log loss of 0.64850. This isn't that much better than guessing '50/50 for every shot'.\n",
    "\n",
    "The very best score on the leaderboard is 0.56528! This isn't very good either!\n",
    "\n",
    "It's important to understand this dataset in order to see why it's difficult to create a good model. The dataset is messy, in a sense. By this, I mean that two very similar data points often have opposite labels. \n",
    "\n",
    "Think about where this data is coming from: these are Kobe Bryant's shots in basketball games. If you've ever watched Kobe play (or if you've ever seen a basketball game, for that matter) you know that players can be inconsistent. On one play, Kobe may make a 3-pointer from the top of the circle. On another play, he may take the exact same shot -- and miss!\n",
    "\n",
    "Because of the player inconsistencies, it's difficult to accurately predict when a shot will be made using standard machine learning classifiers. This is probably the reason why the competition is scored on log loss rather than accuracy."
   ]
  }
 ],
 "metadata": {
  "kernelspec": {
   "display_name": "Python 3",
   "language": "python",
   "name": "python3"
  },
  "language_info": {
   "codemirror_mode": {
    "name": "ipython",
    "version": 3
   },
   "file_extension": ".py",
   "mimetype": "text/x-python",
   "name": "python",
   "nbconvert_exporter": "python",
   "pygments_lexer": "ipython3",
   "version": "3.6.6"
  }
 },
 "nbformat": 4,
 "nbformat_minor": 2
}
