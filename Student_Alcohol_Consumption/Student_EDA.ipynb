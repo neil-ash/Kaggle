{
 "cells": [
  {
   "cell_type": "markdown",
   "metadata": {},
   "source": [
    "# Student Alcohol Consumption\n",
    "Social, gender and study data from secondary school students\n",
    "\n",
    "https://www.kaggle.com/uciml/student-alcohol-consumption/home"
   ]
  },
  {
   "cell_type": "code",
   "execution_count": 112,
   "metadata": {},
   "outputs": [],
   "source": [
    "import numpy as np\n",
    "import pandas as pd\n",
    "import matplotlib.pyplot as plt\n",
    "from matplotlib import style; style.use('ggplot')\n",
    "plt.rcParams['figure.figsize'] = [8, 6]"
   ]
  },
  {
   "cell_type": "code",
   "execution_count": 113,
   "metadata": {},
   "outputs": [],
   "source": [
    "# -mat: math course, -por: portugese course\n",
    "mat = pd.read_csv('data/student-mat.csv')\n",
    "por = pd.read_csv('data/student-por.csv')"
   ]
  },
  {
   "cell_type": "code",
   "execution_count": 114,
   "metadata": {},
   "outputs": [
    {
     "data": {
      "text/html": [
       "<div>\n",
       "<style scoped>\n",
       "    .dataframe tbody tr th:only-of-type {\n",
       "        vertical-align: middle;\n",
       "    }\n",
       "\n",
       "    .dataframe tbody tr th {\n",
       "        vertical-align: top;\n",
       "    }\n",
       "\n",
       "    .dataframe thead th {\n",
       "        text-align: right;\n",
       "    }\n",
       "</style>\n",
       "<table border=\"1\" class=\"dataframe\">\n",
       "  <thead>\n",
       "    <tr style=\"text-align: right;\">\n",
       "      <th></th>\n",
       "      <th>school</th>\n",
       "      <th>sex</th>\n",
       "      <th>age</th>\n",
       "      <th>address</th>\n",
       "      <th>famsize</th>\n",
       "      <th>Pstatus</th>\n",
       "      <th>Medu</th>\n",
       "      <th>Fedu</th>\n",
       "      <th>Mjob</th>\n",
       "      <th>Fjob</th>\n",
       "      <th>...</th>\n",
       "      <th>famrel</th>\n",
       "      <th>freetime</th>\n",
       "      <th>goout</th>\n",
       "      <th>Dalc</th>\n",
       "      <th>Walc</th>\n",
       "      <th>health</th>\n",
       "      <th>absences</th>\n",
       "      <th>G1</th>\n",
       "      <th>G2</th>\n",
       "      <th>G3</th>\n",
       "    </tr>\n",
       "  </thead>\n",
       "  <tbody>\n",
       "    <tr>\n",
       "      <th>0</th>\n",
       "      <td>GP</td>\n",
       "      <td>F</td>\n",
       "      <td>18</td>\n",
       "      <td>U</td>\n",
       "      <td>GT3</td>\n",
       "      <td>A</td>\n",
       "      <td>4</td>\n",
       "      <td>4</td>\n",
       "      <td>at_home</td>\n",
       "      <td>teacher</td>\n",
       "      <td>...</td>\n",
       "      <td>4</td>\n",
       "      <td>3</td>\n",
       "      <td>4</td>\n",
       "      <td>1</td>\n",
       "      <td>1</td>\n",
       "      <td>3</td>\n",
       "      <td>6</td>\n",
       "      <td>5</td>\n",
       "      <td>6</td>\n",
       "      <td>6</td>\n",
       "    </tr>\n",
       "    <tr>\n",
       "      <th>1</th>\n",
       "      <td>GP</td>\n",
       "      <td>F</td>\n",
       "      <td>17</td>\n",
       "      <td>U</td>\n",
       "      <td>GT3</td>\n",
       "      <td>T</td>\n",
       "      <td>1</td>\n",
       "      <td>1</td>\n",
       "      <td>at_home</td>\n",
       "      <td>other</td>\n",
       "      <td>...</td>\n",
       "      <td>5</td>\n",
       "      <td>3</td>\n",
       "      <td>3</td>\n",
       "      <td>1</td>\n",
       "      <td>1</td>\n",
       "      <td>3</td>\n",
       "      <td>4</td>\n",
       "      <td>5</td>\n",
       "      <td>5</td>\n",
       "      <td>6</td>\n",
       "    </tr>\n",
       "    <tr>\n",
       "      <th>2</th>\n",
       "      <td>GP</td>\n",
       "      <td>F</td>\n",
       "      <td>15</td>\n",
       "      <td>U</td>\n",
       "      <td>LE3</td>\n",
       "      <td>T</td>\n",
       "      <td>1</td>\n",
       "      <td>1</td>\n",
       "      <td>at_home</td>\n",
       "      <td>other</td>\n",
       "      <td>...</td>\n",
       "      <td>4</td>\n",
       "      <td>3</td>\n",
       "      <td>2</td>\n",
       "      <td>2</td>\n",
       "      <td>3</td>\n",
       "      <td>3</td>\n",
       "      <td>10</td>\n",
       "      <td>7</td>\n",
       "      <td>8</td>\n",
       "      <td>10</td>\n",
       "    </tr>\n",
       "    <tr>\n",
       "      <th>3</th>\n",
       "      <td>GP</td>\n",
       "      <td>F</td>\n",
       "      <td>15</td>\n",
       "      <td>U</td>\n",
       "      <td>GT3</td>\n",
       "      <td>T</td>\n",
       "      <td>4</td>\n",
       "      <td>2</td>\n",
       "      <td>health</td>\n",
       "      <td>services</td>\n",
       "      <td>...</td>\n",
       "      <td>3</td>\n",
       "      <td>2</td>\n",
       "      <td>2</td>\n",
       "      <td>1</td>\n",
       "      <td>1</td>\n",
       "      <td>5</td>\n",
       "      <td>2</td>\n",
       "      <td>15</td>\n",
       "      <td>14</td>\n",
       "      <td>15</td>\n",
       "    </tr>\n",
       "    <tr>\n",
       "      <th>4</th>\n",
       "      <td>GP</td>\n",
       "      <td>F</td>\n",
       "      <td>16</td>\n",
       "      <td>U</td>\n",
       "      <td>GT3</td>\n",
       "      <td>T</td>\n",
       "      <td>3</td>\n",
       "      <td>3</td>\n",
       "      <td>other</td>\n",
       "      <td>other</td>\n",
       "      <td>...</td>\n",
       "      <td>4</td>\n",
       "      <td>3</td>\n",
       "      <td>2</td>\n",
       "      <td>1</td>\n",
       "      <td>2</td>\n",
       "      <td>5</td>\n",
       "      <td>4</td>\n",
       "      <td>6</td>\n",
       "      <td>10</td>\n",
       "      <td>10</td>\n",
       "    </tr>\n",
       "  </tbody>\n",
       "</table>\n",
       "<p>5 rows × 33 columns</p>\n",
       "</div>"
      ],
      "text/plain": [
       "  school sex  age address famsize Pstatus  Medu  Fedu     Mjob      Fjob ...  \\\n",
       "0     GP   F   18       U     GT3       A     4     4  at_home   teacher ...   \n",
       "1     GP   F   17       U     GT3       T     1     1  at_home     other ...   \n",
       "2     GP   F   15       U     LE3       T     1     1  at_home     other ...   \n",
       "3     GP   F   15       U     GT3       T     4     2   health  services ...   \n",
       "4     GP   F   16       U     GT3       T     3     3    other     other ...   \n",
       "\n",
       "  famrel freetime  goout  Dalc  Walc health absences  G1  G2  G3  \n",
       "0      4        3      4     1     1      3        6   5   6   6  \n",
       "1      5        3      3     1     1      3        4   5   5   6  \n",
       "2      4        3      2     2     3      3       10   7   8  10  \n",
       "3      3        2      2     1     1      5        2  15  14  15  \n",
       "4      4        3      2     1     2      5        4   6  10  10  \n",
       "\n",
       "[5 rows x 33 columns]"
      ]
     },
     "execution_count": 114,
     "metadata": {},
     "output_type": "execute_result"
    }
   ],
   "source": [
    "mat.head()"
   ]
  },
  {
   "cell_type": "code",
   "execution_count": 115,
   "metadata": {},
   "outputs": [
    {
     "data": {
      "text/html": [
       "<div>\n",
       "<style scoped>\n",
       "    .dataframe tbody tr th:only-of-type {\n",
       "        vertical-align: middle;\n",
       "    }\n",
       "\n",
       "    .dataframe tbody tr th {\n",
       "        vertical-align: top;\n",
       "    }\n",
       "\n",
       "    .dataframe thead th {\n",
       "        text-align: right;\n",
       "    }\n",
       "</style>\n",
       "<table border=\"1\" class=\"dataframe\">\n",
       "  <thead>\n",
       "    <tr style=\"text-align: right;\">\n",
       "      <th></th>\n",
       "      <th>school</th>\n",
       "      <th>sex</th>\n",
       "      <th>age</th>\n",
       "      <th>address</th>\n",
       "      <th>famsize</th>\n",
       "      <th>Pstatus</th>\n",
       "      <th>Medu</th>\n",
       "      <th>Fedu</th>\n",
       "      <th>Mjob</th>\n",
       "      <th>Fjob</th>\n",
       "      <th>...</th>\n",
       "      <th>famrel</th>\n",
       "      <th>freetime</th>\n",
       "      <th>goout</th>\n",
       "      <th>Dalc</th>\n",
       "      <th>Walc</th>\n",
       "      <th>health</th>\n",
       "      <th>absences</th>\n",
       "      <th>G1</th>\n",
       "      <th>G2</th>\n",
       "      <th>G3</th>\n",
       "    </tr>\n",
       "  </thead>\n",
       "  <tbody>\n",
       "    <tr>\n",
       "      <th>0</th>\n",
       "      <td>GP</td>\n",
       "      <td>F</td>\n",
       "      <td>18</td>\n",
       "      <td>U</td>\n",
       "      <td>GT3</td>\n",
       "      <td>A</td>\n",
       "      <td>4</td>\n",
       "      <td>4</td>\n",
       "      <td>at_home</td>\n",
       "      <td>teacher</td>\n",
       "      <td>...</td>\n",
       "      <td>4</td>\n",
       "      <td>3</td>\n",
       "      <td>4</td>\n",
       "      <td>1</td>\n",
       "      <td>1</td>\n",
       "      <td>3</td>\n",
       "      <td>4</td>\n",
       "      <td>0</td>\n",
       "      <td>11</td>\n",
       "      <td>11</td>\n",
       "    </tr>\n",
       "    <tr>\n",
       "      <th>1</th>\n",
       "      <td>GP</td>\n",
       "      <td>F</td>\n",
       "      <td>17</td>\n",
       "      <td>U</td>\n",
       "      <td>GT3</td>\n",
       "      <td>T</td>\n",
       "      <td>1</td>\n",
       "      <td>1</td>\n",
       "      <td>at_home</td>\n",
       "      <td>other</td>\n",
       "      <td>...</td>\n",
       "      <td>5</td>\n",
       "      <td>3</td>\n",
       "      <td>3</td>\n",
       "      <td>1</td>\n",
       "      <td>1</td>\n",
       "      <td>3</td>\n",
       "      <td>2</td>\n",
       "      <td>9</td>\n",
       "      <td>11</td>\n",
       "      <td>11</td>\n",
       "    </tr>\n",
       "    <tr>\n",
       "      <th>2</th>\n",
       "      <td>GP</td>\n",
       "      <td>F</td>\n",
       "      <td>15</td>\n",
       "      <td>U</td>\n",
       "      <td>LE3</td>\n",
       "      <td>T</td>\n",
       "      <td>1</td>\n",
       "      <td>1</td>\n",
       "      <td>at_home</td>\n",
       "      <td>other</td>\n",
       "      <td>...</td>\n",
       "      <td>4</td>\n",
       "      <td>3</td>\n",
       "      <td>2</td>\n",
       "      <td>2</td>\n",
       "      <td>3</td>\n",
       "      <td>3</td>\n",
       "      <td>6</td>\n",
       "      <td>12</td>\n",
       "      <td>13</td>\n",
       "      <td>12</td>\n",
       "    </tr>\n",
       "    <tr>\n",
       "      <th>3</th>\n",
       "      <td>GP</td>\n",
       "      <td>F</td>\n",
       "      <td>15</td>\n",
       "      <td>U</td>\n",
       "      <td>GT3</td>\n",
       "      <td>T</td>\n",
       "      <td>4</td>\n",
       "      <td>2</td>\n",
       "      <td>health</td>\n",
       "      <td>services</td>\n",
       "      <td>...</td>\n",
       "      <td>3</td>\n",
       "      <td>2</td>\n",
       "      <td>2</td>\n",
       "      <td>1</td>\n",
       "      <td>1</td>\n",
       "      <td>5</td>\n",
       "      <td>0</td>\n",
       "      <td>14</td>\n",
       "      <td>14</td>\n",
       "      <td>14</td>\n",
       "    </tr>\n",
       "    <tr>\n",
       "      <th>4</th>\n",
       "      <td>GP</td>\n",
       "      <td>F</td>\n",
       "      <td>16</td>\n",
       "      <td>U</td>\n",
       "      <td>GT3</td>\n",
       "      <td>T</td>\n",
       "      <td>3</td>\n",
       "      <td>3</td>\n",
       "      <td>other</td>\n",
       "      <td>other</td>\n",
       "      <td>...</td>\n",
       "      <td>4</td>\n",
       "      <td>3</td>\n",
       "      <td>2</td>\n",
       "      <td>1</td>\n",
       "      <td>2</td>\n",
       "      <td>5</td>\n",
       "      <td>0</td>\n",
       "      <td>11</td>\n",
       "      <td>13</td>\n",
       "      <td>13</td>\n",
       "    </tr>\n",
       "  </tbody>\n",
       "</table>\n",
       "<p>5 rows × 33 columns</p>\n",
       "</div>"
      ],
      "text/plain": [
       "  school sex  age address famsize Pstatus  Medu  Fedu     Mjob      Fjob ...  \\\n",
       "0     GP   F   18       U     GT3       A     4     4  at_home   teacher ...   \n",
       "1     GP   F   17       U     GT3       T     1     1  at_home     other ...   \n",
       "2     GP   F   15       U     LE3       T     1     1  at_home     other ...   \n",
       "3     GP   F   15       U     GT3       T     4     2   health  services ...   \n",
       "4     GP   F   16       U     GT3       T     3     3    other     other ...   \n",
       "\n",
       "  famrel freetime  goout  Dalc  Walc health absences  G1  G2  G3  \n",
       "0      4        3      4     1     1      3        4   0  11  11  \n",
       "1      5        3      3     1     1      3        2   9  11  11  \n",
       "2      4        3      2     2     3      3        6  12  13  12  \n",
       "3      3        2      2     1     1      5        0  14  14  14  \n",
       "4      4        3      2     1     2      5        0  11  13  13  \n",
       "\n",
       "[5 rows x 33 columns]"
      ]
     },
     "execution_count": 115,
     "metadata": {},
     "output_type": "execute_result"
    }
   ],
   "source": [
    "por.head()"
   ]
  },
  {
   "cell_type": "code",
   "execution_count": 116,
   "metadata": {},
   "outputs": [
    {
     "data": {
      "text/plain": [
       "((395, 33), (649, 33))"
      ]
     },
     "execution_count": 116,
     "metadata": {},
     "output_type": "execute_result"
    }
   ],
   "source": [
    "mat.values.shape, por.values.shape"
   ]
  },
  {
   "cell_type": "markdown",
   "metadata": {},
   "source": [
    "The Portugese class has data on more students -- I'll start by investigating it alone."
   ]
  },
  {
   "cell_type": "markdown",
   "metadata": {},
   "source": [
    "## Exploratory Data Analysis"
   ]
  },
  {
   "cell_type": "code",
   "execution_count": 117,
   "metadata": {},
   "outputs": [
    {
     "data": {
      "text/plain": [
       "['school',\n",
       " 'sex',\n",
       " 'age',\n",
       " 'address',\n",
       " 'famsize',\n",
       " 'Pstatus',\n",
       " 'Medu',\n",
       " 'Fedu',\n",
       " 'Mjob',\n",
       " 'Fjob',\n",
       " 'reason',\n",
       " 'guardian',\n",
       " 'traveltime',\n",
       " 'studytime',\n",
       " 'failures',\n",
       " 'schoolsup',\n",
       " 'famsup',\n",
       " 'paid',\n",
       " 'activities',\n",
       " 'nursery',\n",
       " 'higher',\n",
       " 'internet',\n",
       " 'romantic',\n",
       " 'famrel',\n",
       " 'freetime',\n",
       " 'goout',\n",
       " 'Dalc',\n",
       " 'Walc',\n",
       " 'health',\n",
       " 'absences',\n",
       " 'G1',\n",
       " 'G2',\n",
       " 'G3']"
      ]
     },
     "execution_count": 117,
     "metadata": {},
     "output_type": "execute_result"
    }
   ],
   "source": [
    "list(por)"
   ]
  },
  {
   "cell_type": "code",
   "execution_count": 118,
   "metadata": {},
   "outputs": [
    {
     "data": {
      "text/plain": [
       "False"
      ]
     },
     "execution_count": 118,
     "metadata": {},
     "output_type": "execute_result"
    }
   ],
   "source": [
    "(pd.isna(por).values == True).any()"
   ]
  },
  {
   "cell_type": "markdown",
   "metadata": {},
   "source": [
    "Yay! No missing values"
   ]
  },
  {
   "cell_type": "code",
   "execution_count": 157,
   "metadata": {},
   "outputs": [
    {
     "data": {
      "image/png": "[encoded data removed]",
      "text/plain": [
       "<matplotlib.figure.Figure at 0x1a20054da0>"
      ]
     },
     "metadata": {},
     "output_type": "display_data"
    }
   ],
   "source": [
    "plt.rcParams['figure.figsize'] = [8, 6]\n",
    "por.G1.hist()\n",
    "plt.title('First Period Grade');"
   ]
  },
  {
   "cell_type": "code",
   "execution_count": 120,
   "metadata": {},
   "outputs": [
    {
     "data": {
      "image/png": "[encoded data removed]",
      "text/plain": [
       "<matplotlib.figure.Figure at 0x1a1f7d8ba8>"
      ]
     },
     "metadata": {},
     "output_type": "display_data"
    }
   ],
   "source": [
    "por.G2.hist(color='skyblue')\n",
    "plt.title('Second Period Grade');"
   ]
  },
  {
   "cell_type": "code",
   "execution_count": 121,
   "metadata": {},
   "outputs": [
    {
     "data": {
      "image/png": "[encoded data removed]",
      "text/plain": [
       "<matplotlib.figure.Figure at 0x1a1de09e80>"
      ]
     },
     "metadata": {},
     "output_type": "display_data"
    }
   ],
   "source": [
    "por.G3.hist(color='purple')\n",
    "plt.title('Final Grade');"
   ]
  },
  {
   "cell_type": "code",
   "execution_count": 122,
   "metadata": {},
   "outputs": [
    {
     "data": {
      "text/plain": [
       "(383, 266)"
      ]
     },
     "execution_count": 122,
     "metadata": {},
     "output_type": "execute_result"
    }
   ],
   "source": [
    "# Categorical data should sum to 649 to account for all students (assuming no missing values)\n",
    "np.sum(por.sex == 'F'), np.sum(por.sex == 'M')"
   ]
  },
  {
   "cell_type": "markdown",
   "metadata": {},
   "source": [
    "More girls than boys in Portugese class!"
   ]
  },
  {
   "cell_type": "code",
   "execution_count": 123,
   "metadata": {},
   "outputs": [
    {
     "data": {
      "text/plain": [
       "(423, 226)"
      ]
     },
     "execution_count": 123,
     "metadata": {},
     "output_type": "execute_result"
    }
   ],
   "source": [
    "np.sum(por.school == 'GP'), np.sum(por.school == 'MS') "
   ]
  },
  {
   "cell_type": "markdown",
   "metadata": {},
   "source": [
    "Almost twice as many students go to Gabriel Pereira school vs Mousinho da Silveira."
   ]
  },
  {
   "cell_type": "code",
   "execution_count": 124,
   "metadata": {},
   "outputs": [
    {
     "data": {
      "image/png": "[encoded data removed]",
      "text/plain": [
       "<matplotlib.figure.Figure at 0x1a1fe58f28>"
      ]
     },
     "metadata": {},
     "output_type": "display_data"
    }
   ],
   "source": [
    "por.age.hist(bins=(22 - 15), width=0.5, color='green')\n",
    "plt.title('Ages');"
   ]
  },
  {
   "cell_type": "code",
   "execution_count": 158,
   "metadata": {},
   "outputs": [
    {
     "data": {
      "image/png": "[encoded data removed]",
      "text/plain": [
       "<matplotlib.figure.Figure at 0x1a20247780>"
      ]
     },
     "metadata": {},
     "output_type": "display_data"
    }
   ],
   "source": [
    "por.failures.hist(color='pink')\n",
    "plt.xticks(range(4))\n",
    "plt.title('Failures');"
   ]
  },
  {
   "cell_type": "markdown",
   "metadata": {},
   "source": [
    "I'm not going to create a histogram for each feature. The basic ones are shown above."
   ]
  },
  {
   "cell_type": "markdown",
   "metadata": {},
   "source": [
    "Let's look at some correlations between features:"
   ]
  },
  {
   "cell_type": "code",
   "execution_count": 126,
   "metadata": {},
   "outputs": [
    {
     "data": {
      "image/png": "[encoded data removed]",
      "text/plain": [
       "<matplotlib.figure.Figure at 0x1a1f1e5be0>"
      ]
     },
     "metadata": {},
     "output_type": "display_data"
    }
   ],
   "source": [
    "plt.scatter(por.Fedu, por.Medu, alpha=0.01, color='blue', s=500)\n",
    "plt.xticks([0, 1, 2, 3, 4]); plt.yticks([0, 1, 2, 3, 4])\n",
    "plt.title(\"Parental Education\")\n",
    "plt.xlabel(\"Father's Education\")\n",
    "plt.ylabel(\"Mother's Education\");"
   ]
  },
  {
   "cell_type": "markdown",
   "metadata": {},
   "source": [
    "Generally, a couple will have the same level of education. However, it seems that fathers 'marry up' more than mothers do -- fathers seem to marry women with a higher level of education more often than the converse. \n",
    "\n",
    "Let's see if this is actually true:"
   ]
  },
  {
   "cell_type": "code",
   "execution_count": 127,
   "metadata": {},
   "outputs": [
    {
     "data": {
      "text/plain": [
       "135"
      ]
     },
     "execution_count": 127,
     "metadata": {},
     "output_type": "execute_result"
    }
   ],
   "source": [
    "# Expect this number to be positive\n",
    "par_edu = por.Medu - por.Fedu\n",
    "sum(par_edu)"
   ]
  },
  {
   "cell_type": "code",
   "execution_count": 128,
   "metadata": {},
   "outputs": [
    {
     "data": {
      "image/png": "[encoded data removed]",
      "text/plain": [
       "<matplotlib.figure.Figure at 0x1a1e745208>"
      ]
     },
     "metadata": {},
     "output_type": "display_data"
    }
   ],
   "source": [
    "plt.hist(par_edu, color='gray', bins=20)\n",
    "plt.title('Mother Education minus Father Education');"
   ]
  },
  {
   "cell_type": "code",
   "execution_count": 129,
   "metadata": {},
   "outputs": [
    {
     "data": {
      "text/plain": [
       "(199, 107)"
      ]
     },
     "execution_count": 129,
     "metadata": {},
     "output_type": "execute_result"
    }
   ],
   "source": [
    "np.sum(por.Medu > por.Fedu), np.sum(por.Medu < por.Fedu)"
   ]
  },
  {
   "cell_type": "markdown",
   "metadata": {},
   "source": [
    "These results confirm my  suspicion. There are more parents in which the mother is more highly educated than the father."
   ]
  },
  {
   "cell_type": "code",
   "execution_count": 130,
   "metadata": {},
   "outputs": [
    {
     "data": {
      "image/png": "[encoded data removed]",
      "text/plain": [
       "<matplotlib.figure.Figure at 0x1a1f7d1080>"
      ]
     },
     "metadata": {},
     "output_type": "display_data"
    }
   ],
   "source": [
    "# Study time vs final grade (G3)\n",
    "plt.scatter(por.studytime, por.G3 * 5, alpha=0.05)\n",
    "plt.title('Time Spent studying vs Overall Grade');"
   ]
  },
  {
   "cell_type": "markdown",
   "metadata": {},
   "source": [
    "I would've expected this to be a stronger positive correlation..."
   ]
  },
  {
   "cell_type": "code",
   "execution_count": 159,
   "metadata": {},
   "outputs": [
    {
     "data": {
      "image/png": "[encoded data removed]",
      "text/plain": [
       "<matplotlib.figure.Figure at 0x1a1fde4e80>"
      ]
     },
     "metadata": {},
     "output_type": "display_data"
    }
   ],
   "source": [
    "plt.scatter(por.Walc, por.Dalc, alpha=0.01, s=500, color='tan')\n",
    "plt.xticks([i for i in range(1, 6)])\n",
    "plt.yticks([i for i in range(1, 6)])\n",
    "plt.xlabel('Weekend')\n",
    "plt.ylabel('Weekday')\n",
    "plt.title('Alcohol Consumption');"
   ]
  },
  {
   "cell_type": "markdown",
   "metadata": {},
   "source": [
    "It looks like most points are under the line y = x. So, most students drink more on the weekends than they do on weekdays. Makes sense."
   ]
  },
  {
   "cell_type": "markdown",
   "metadata": {},
   "source": [
    "## Feature Selection and Preprocessing\n",
    "\n",
    "Features:\n",
    "- school - student's school (binary: 'GP' - Gabriel Pereira or 'MS' - Mousinho da Silveira)\n",
    "- sex - student's sex (binary: 'F' - female or 'M' - male)\n",
    "- age - student's age (numeric: from 15 to 22)\n",
    "- address - student's home address type (binary: 'U' - urban or 'R' - rural)\n",
    "- famsize - family size (binary: 'LE3' - less or equal to 3 or 'GT3' - greater than 3)\n",
    "- Pstatus - parent's cohabitation status (binary: 'T' - living together or 'A' - apart)\n",
    "- Medu - mother's education (numeric: 0 - none, 1 - primary education (4th grade), 2 – 5th to - 9th grade, 3 – secondary education or 4 – higher education)\n",
    "- Fedu - father's education (numeric: 0 - none, 1 - primary education (4th grade), 2 – 5th to - 9th grade, 3 – secondary education or 4 – higher education)\n",
    "- Mjob - mother's job (nominal: 'teacher', 'health' care related, civil 'services' (e.g. administrative or police), 'at_home' or 'other')\n",
    "- Fjob - father's job (nominal: 'teacher', 'health' care related, civil 'services' (e.g. administrative or police), 'at_home' or 'other')\n",
    "- reason - reason to choose this school (nominal: close to 'home', school 'reputation', 'course' preference or 'other')\n",
    "- guardian - student's guardian (nominal: 'mother', 'father' or 'other')\n",
    "- traveltime - home to school travel time (numeric: 1 - <15 min., 2 - 15 to 30 min., 3 - 30 min. to 1 hour, or 4 - >1 hour)\n",
    "- studytime - weekly study time (numeric: 1 - <2 hours, 2 - 2 to 5 hours, 3 - 5 to 10 hours, or 4 - >10 hours)\n",
    "- failures - number of past class failures (numeric: n if 1<=n<3, else 4)\n",
    "- schoolsup - extra educational support (binary: yes or no)\n",
    "- famsup - family educational support (binary: yes or no)\n",
    "- paid - extra paid classes within the course subject (Math or Portuguese) (binary: yes or no)\n",
    "- activities - extra-curricular activities (binary: yes or no)\n",
    "- nursery - attended nursery school (binary: yes or no)\n",
    "- higher - wants to take higher education (binary: yes or no)\n",
    "- internet - Internet access at home (binary: yes or no)\n",
    "- romantic - with a romantic relationship (binary: yes or no)\n",
    "- famrel - quality of family relationships (numeric: from 1 - very bad to 5 - excellent)\n",
    "- freetime - free time after school (numeric: from 1 - very low to 5 - very high)\n",
    "- goout - going out with friends (numeric: from 1 - very low to 5 - very high)\n",
    "- Dalc - workday alcohol consumption (numeric: from 1 - very low to 5 - very high)\n",
    "- Walc - weekend alcohol consumption (numeric: from 1 - very low to 5 - very high)\n",
    "- health - current health status (numeric: from 1 - very bad to 5 - very good)\n",
    "- absences - number of school absences (numeric: from 0 to 93)\n",
    "\n",
    "I will include all features. I will need to one-hot encode most of the features, since they are mainly categorical. "
   ]
  },
  {
   "cell_type": "code",
   "execution_count": 132,
   "metadata": {},
   "outputs": [],
   "source": [
    "# Get encoders from sklearn\n",
    "from sklearn.preprocessing import OneHotEncoder, MinMaxScaler\n",
    "ohe = OneHotEncoder()\n",
    "mms = MinMaxScaler()"
   ]
  },
  {
   "cell_type": "code",
   "execution_count": 133,
   "metadata": {},
   "outputs": [
    {
     "name": "stderr",
     "output_type": "stream",
     "text": [
      "/Users/Ashtekar15/anaconda3/lib/python3.6/site-packages/sklearn/utils/validation.py:590: DataConversionWarning: Data with input dtype int64 was converted to float64 by MinMaxScaler.\n",
      "  warnings.warn(msg, DataConversionWarning)\n",
      "/Users/Ashtekar15/anaconda3/lib/python3.6/site-packages/sklearn/utils/validation.py:590: DataConversionWarning: Data with input dtype int64 was converted to float64 by MinMaxScaler.\n",
      "  warnings.warn(msg, DataConversionWarning)\n"
     ]
    }
   ],
   "source": [
    "# Store encoded features in a dictionary in order to make sure encoding is correct\n",
    "features = {}\n",
    "\n",
    "# Iterate over columns in dataframe (features)\n",
    "for i in por.columns:\n",
    "    \n",
    "    # Disregard grades\n",
    "    if i in ['G1', 'G2', 'G3']:\n",
    "        continue\n",
    "    \n",
    "    # Min-max scale age and absences\n",
    "    elif i in ['age', 'absences']:\n",
    "        features[i] = mms.fit_transform(por[i].values.reshape(-1, 1)).ravel()\n",
    "    \n",
    "    # One-hot encode everything else\n",
    "    else:\n",
    "        \n",
    "        # Will always have 1 'dummy variable' column to disregard, set as first\n",
    "        features[i] = ohe.fit_transform(por[i].values.reshape(-1, 1)).toarray()[:, 1:]"
   ]
  },
  {
   "cell_type": "code",
   "execution_count": 134,
   "metadata": {},
   "outputs": [
    {
     "data": {
      "text/plain": [
       "Index(['school', 'sex', 'age', 'address', 'famsize', 'Pstatus', 'Medu', 'Fedu',\n",
       "       'Mjob', 'Fjob', 'reason', 'guardian', 'traveltime', 'studytime',\n",
       "       'failures', 'schoolsup', 'famsup', 'paid', 'activities', 'nursery',\n",
       "       'higher', 'internet', 'romantic', 'famrel', 'freetime', 'goout', 'Dalc',\n",
       "       'Walc', 'health', 'absences', 'G1', 'G2', 'G3'],\n",
       "      dtype='object')"
      ]
     },
     "execution_count": 134,
     "metadata": {},
     "output_type": "execute_result"
    }
   ],
   "source": [
    "por.columns"
   ]
  },
  {
   "cell_type": "code",
   "execution_count": 135,
   "metadata": {},
   "outputs": [
    {
     "data": {
      "text/plain": [
       "dict_keys(['school', 'sex', 'age', 'address', 'famsize', 'Pstatus', 'Medu', 'Fedu', 'Mjob', 'Fjob', 'reason', 'guardian', 'traveltime', 'studytime', 'failures', 'schoolsup', 'famsup', 'paid', 'activities', 'nursery', 'higher', 'internet', 'romantic', 'famrel', 'freetime', 'goout', 'Dalc', 'Walc', 'health', 'absences'])"
      ]
     },
     "execution_count": 135,
     "metadata": {},
     "output_type": "execute_result"
    }
   ],
   "source": [
    "features.keys()"
   ]
  },
  {
   "cell_type": "code",
   "execution_count": 136,
   "metadata": {},
   "outputs": [],
   "source": [
    "temp = np.ones((por.values.shape[0], 1))\n",
    "\n",
    "for i in features.values():\n",
    "    temp = np.hstack((temp, i.reshape(por.values.shape[0], -1)))\n",
    "\n",
    "X = temp[:, 1:]"
   ]
  },
  {
   "cell_type": "code",
   "execution_count": 137,
   "metadata": {},
   "outputs": [
    {
     "data": {
      "text/plain": [
       "(649, 69)"
      ]
     },
     "execution_count": 137,
     "metadata": {},
     "output_type": "execute_result"
    }
   ],
   "source": [
    "X.shape"
   ]
  },
  {
   "cell_type": "code",
   "execution_count": 138,
   "metadata": {},
   "outputs": [],
   "source": [
    "y = por.G3.values"
   ]
  },
  {
   "cell_type": "code",
   "execution_count": 139,
   "metadata": {},
   "outputs": [
    {
     "data": {
      "text/plain": [
       "(649,)"
      ]
     },
     "execution_count": 139,
     "metadata": {},
     "output_type": "execute_result"
    }
   ],
   "source": [
    "y.shape"
   ]
  },
  {
   "cell_type": "markdown",
   "metadata": {},
   "source": [
    "## Clustering"
   ]
  },
  {
   "cell_type": "code",
   "execution_count": 140,
   "metadata": {},
   "outputs": [],
   "source": [
    "from sklearn.cluster import KMeans\n",
    "\n",
    "# Inertia: sum of squared distances of samples to their closest cluster center\n",
    "inertia_ls = []\n",
    "\n",
    "# To determine best number of clusters (k)\n",
    "for i in range(2, 21):\n",
    "    kmc = KMeans(n_clusters=i)\n",
    "    kmc.fit(X)\n",
    "    inertia_ls.append(kmc.inertia_)"
   ]
  },
  {
   "cell_type": "code",
   "execution_count": 141,
   "metadata": {},
   "outputs": [
    {
     "data": {
      "image/png": "[encoded data removed]",
      "text/plain": [
       "<matplotlib.figure.Figure at 0x1a1ddebda0>"
      ]
     },
     "metadata": {},
     "output_type": "display_data"
    }
   ],
   "source": [
    "plt.scatter(x=range(2, 21), y=inertia_ls, color='blue')\n",
    "plt.title('Choosing the Number of Clusters (k)')\n",
    "plt.xlabel('k')\n",
    "plt.ylabel('Inertia')\n",
    "plt.xticks(range(2, 21));"
   ]
  },
  {
   "cell_type": "markdown",
   "metadata": {},
   "source": [
    "Use the 'elbow method' to choose k -- choose k as the point where the rate of change of inertia slows down most abruptly.\n",
    "\n",
    "I'll choose k = 6"
   ]
  },
  {
   "cell_type": "code",
   "execution_count": 142,
   "metadata": {},
   "outputs": [
    {
     "data": {
      "text/plain": [
       "KMeans(algorithm='auto', copy_x=True, init='k-means++', max_iter=300,\n",
       "    n_clusters=6, n_init=10, n_jobs=None, precompute_distances='auto',\n",
       "    random_state=None, tol=0.0001, verbose=0)"
      ]
     },
     "execution_count": 142,
     "metadata": {},
     "output_type": "execute_result"
    }
   ],
   "source": [
    "kmc = KMeans(n_clusters=6)\n",
    "kmc.fit(X)"
   ]
  },
  {
   "cell_type": "code",
   "execution_count": 143,
   "metadata": {},
   "outputs": [
    {
     "data": {
      "text/plain": [
       "array([5, 4, 4, 5, 3, 3, 0, 5, 3, 3, 5, 2, 5, 3, 0, 5, 5, 3, 1, 3, 3, 5,\n",
       "       5, 0, 5, 1, 0, 1, 3, 5, 5, 5, 5, 3, 0, 2, 5, 5, 5, 0, 0, 5, 5, 1,\n",
       "       0, 3, 3, 5, 0, 5, 1, 0, 5, 5, 3, 2, 3, 5, 0, 0, 5, 1, 1, 5, 3, 5,\n",
       "       5, 3, 1, 2, 2, 0, 4, 2, 3, 3, 5, 0, 2, 3, 1, 2, 3, 1, 4, 5, 0, 0,\n",
       "       0, 5, 3, 3, 3, 5, 1, 4, 3, 2, 5, 3, 5, 5, 5, 3, 3, 3, 0, 3, 5, 5,\n",
       "       5, 3, 0, 0, 2, 5, 5, 3, 3, 3, 1, 1, 2, 5, 0, 1, 3, 4, 5, 2, 5, 2,\n",
       "       2, 4, 0, 3, 2, 0, 5, 5, 3, 4, 1, 1, 4, 3, 4, 5, 4, 5, 3, 5, 1, 5,\n",
       "       4, 2, 4, 2, 1, 0, 1, 5, 2, 4, 2, 1, 1, 5, 1, 0, 4, 0, 3, 1, 2, 0,\n",
       "       0, 1, 4, 1, 0, 1, 0, 5, 3, 2, 5, 1, 3, 3, 0, 3, 5, 3, 3, 3, 1, 3,\n",
       "       0, 3, 1, 2, 3, 0, 1, 1, 1, 3, 2, 1, 5, 3, 5, 5, 3, 3, 4, 0, 1, 5,\n",
       "       3, 3, 4, 5, 3, 5, 0, 0, 5, 0, 3, 3, 3, 1, 2, 4, 1, 0, 5, 2, 0, 1,\n",
       "       2, 2, 3, 0, 5, 5, 4, 3, 0, 2, 2, 3, 1, 3, 0, 5, 0, 4, 0, 1, 4, 1,\n",
       "       0, 4, 0, 3, 5, 3, 5, 5, 4, 3, 4, 2, 2, 4, 2, 1, 3, 0, 0, 3, 1, 2,\n",
       "       2, 4, 2, 5, 1, 2, 0, 4, 0, 3, 2, 1, 1, 2, 3, 3, 0, 3, 1, 0, 3, 3,\n",
       "       5, 5, 2, 3, 1, 4, 0, 2, 5, 0, 0, 5, 5, 1, 1, 5, 0, 2, 1, 4, 4, 0,\n",
       "       2, 4, 1, 4, 1, 5, 5, 5, 2, 0, 3, 5, 3, 3, 5, 5, 5, 5, 0, 1, 2, 0,\n",
       "       3, 4, 2, 2, 5, 3, 5, 1, 3, 5, 5, 3, 5, 5, 3, 2, 5, 4, 4, 0, 0, 1,\n",
       "       1, 1, 2, 5, 3, 0, 5, 5, 3, 0, 1, 0, 5, 0, 3, 0, 0, 3, 0, 1, 0, 5,\n",
       "       3, 0, 3, 1, 5, 5, 3, 2, 2, 2, 2, 5, 1, 3, 1, 5, 5, 4, 4, 5, 0, 0,\n",
       "       1, 2, 0, 4, 3, 4, 0, 4, 3, 1, 2, 5, 0, 0, 4, 5, 0, 4, 4, 0, 2, 1,\n",
       "       4, 4, 5, 5, 0, 4, 3, 2, 5, 4, 1, 0, 0, 4, 4, 2, 4, 1, 4, 4, 4, 4,\n",
       "       4, 0, 4, 0, 1, 1, 0, 5, 3, 0, 0, 1, 3, 1, 2, 1, 4, 0, 1, 2, 4, 0,\n",
       "       0, 0, 1, 0, 4, 4, 4, 4, 0, 4, 0, 3, 4, 3, 1, 0, 0, 3, 1, 4, 0, 4,\n",
       "       1, 4, 0, 4, 0, 4, 4, 2, 1, 4, 5, 0, 1, 2, 4, 1, 5, 5, 3, 5, 2, 1,\n",
       "       0, 5, 1, 4, 2, 2, 5, 0, 0, 1, 0, 2, 0, 0, 5, 5, 4, 3, 5, 4, 4, 0,\n",
       "       0, 0, 4, 4, 4, 0, 0, 2, 0, 4, 4, 4, 1, 0, 0, 4, 4, 0, 1, 3, 1, 2,\n",
       "       1, 4, 4, 1, 0, 4, 3, 1, 4, 0, 4, 0, 0, 4, 5, 1, 5, 0, 4, 1, 1, 0,\n",
       "       5, 5, 0, 0, 1, 5, 4, 0, 1, 0, 4, 4, 0, 2, 4, 4, 4, 0, 3, 1, 5, 0,\n",
       "       4, 4, 0, 1, 5, 4, 4, 5, 4, 1, 5, 1, 0, 0, 5, 4, 4, 5, 3, 3, 5, 2,\n",
       "       1, 4, 0, 0, 3, 5, 2, 1, 4, 1, 0], dtype=int32)"
      ]
     },
     "execution_count": 143,
     "metadata": {},
     "output_type": "execute_result"
    }
   ],
   "source": [
    "kmc.labels_"
   ]
  },
  {
   "cell_type": "code",
   "execution_count": 144,
   "metadata": {},
   "outputs": [],
   "source": [
    "# Group students together based on cluster assignments\n",
    "c_ls = []\n",
    "\n",
    "# Each element in list is a dataframe of students assigned to given cluster\n",
    "for i in range(6):\n",
    "    c_ls.append(por.iloc[kmc.labels_ == i])"
   ]
  },
  {
   "cell_type": "code",
   "execution_count": 145,
   "metadata": {},
   "outputs": [],
   "source": [
    "# c_ls[0]"
   ]
  },
  {
   "cell_type": "markdown",
   "metadata": {},
   "source": [
    "## Dimensionality Reduction"
   ]
  },
  {
   "cell_type": "code",
   "execution_count": 146,
   "metadata": {},
   "outputs": [],
   "source": [
    "from sklearn.decomposition import PCA\n",
    "pca = PCA(n_components=2)\n",
    "X_red = pca.fit_transform(X)"
   ]
  },
  {
   "cell_type": "code",
   "execution_count": 147,
   "metadata": {},
   "outputs": [
    {
     "data": {
      "image/png": "[encoded data removed]",
      "text/plain": [
       "<matplotlib.figure.Figure at 0x1a202772e8>"
      ]
     },
     "metadata": {},
     "output_type": "display_data"
    }
   ],
   "source": [
    "plt.rcParams['figure.figsize'] = [12, 8]\n",
    "plt.scatter(X_red[:, 0], X_red[:, 1], c=y*5, cmap='RdYlGn', s=200, alpha=.8)\n",
    "plt.colorbar()\n",
    "plt.title('Data in Reduced Dimension');"
   ]
  },
  {
   "cell_type": "markdown",
   "metadata": {},
   "source": [
    "Green points correspond to good scores, while red points correspond to poor scores. \n",
    "\n",
    "The only real takeaway from this plot is the noticeable separation between dark green/dark red points. The dark red points are in the upper left, while the dark green points are in the bottom right. This shows that students who did well and students who did poorly have general differences in lifestyle as observed in the data."
   ]
  },
  {
   "cell_type": "markdown",
   "metadata": {},
   "source": [
    "## Linear Regression Model"
   ]
  },
  {
   "cell_type": "code",
   "execution_count": 148,
   "metadata": {},
   "outputs": [],
   "source": [
    "from sklearn.linear_model import LinearRegression\n",
    "lin_reg = LinearRegression(normalize=False, fit_intercept=True, copy_X=True)\n",
    "lin_reg.fit(X, y)\n",
    "predictions = lin_reg.predict(X)"
   ]
  },
  {
   "cell_type": "code",
   "execution_count": 149,
   "metadata": {
    "collapsed": true
   },
   "outputs": [
    {
     "name": "stdout",
     "output_type": "stream",
     "text": [
      "Actual\t Predicted\n",
      "11 \t 13\n",
      "11 \t 13\n",
      "12 \t 11\n",
      "14 \t 14\n",
      "13 \t 14\n",
      "13 \t 14\n",
      "13 \t 13\n",
      "13 \t 14\n",
      "17 \t 15\n",
      "13 \t 11\n",
      "14 \t 13\n",
      "13 \t 16\n",
      "12 \t 13\n",
      "13 \t 13\n",
      "15 \t 13\n",
      "17 \t 15\n",
      "14 \t 15\n",
      "14 \t 13\n",
      "7 \t 8\n",
      "12 \t 13\n",
      "14 \t 13\n",
      "12 \t 12\n",
      "14 \t 12\n",
      "10 \t 12\n",
      "10 \t 13\n",
      "12 \t 12\n",
      "12 \t 13\n",
      "11 \t 12\n",
      "13 \t 12\n",
      "12 \t 12\n",
      "11 \t 13\n",
      "15 \t 12\n",
      "15 \t 13\n",
      "12 \t 14\n",
      "12 \t 12\n",
      "11 \t 11\n",
      "14 \t 14\n",
      "13 \t 13\n",
      "12 \t 13\n",
      "12 \t 10\n",
      "10 \t 13\n",
      "11 \t 12\n",
      "15 \t 15\n",
      "10 \t 11\n",
      "11 \t 10\n",
      "11 \t 12\n",
      "13 \t 11\n",
      "17 \t 16\n",
      "13 \t 12\n",
      "12 \t 14\n",
      "13 \t 14\n",
      "16 \t 14\n",
      "9 \t 11\n",
      "12 \t 11\n",
      "13 \t 10\n",
      "12 \t 12\n",
      "15 \t 15\n",
      "16 \t 13\n",
      "14 \t 12\n",
      "16 \t 14\n",
      "16 \t 13\n",
      "16 \t 10\n",
      "10 \t 14\n",
      "13 \t 12\n",
      "12 \t 13\n",
      "16 \t 15\n",
      "12 \t 12\n",
      "10 \t 13\n",
      "11 \t 13\n",
      "15 \t 14\n",
      "11 \t 14\n",
      "10 \t 13\n",
      "11 \t 9\n",
      "14 \t 11\n",
      "11 \t 11\n",
      "11 \t 12\n",
      "11 \t 15\n",
      "13 \t 14\n",
      "10 \t 5\n",
      "11 \t 13\n",
      "12 \t 11\n",
      "9 \t 12\n",
      "11 \t 14\n",
      "13 \t 12\n",
      "12 \t 14\n",
      "12 \t 13\n",
      "11 \t 13\n",
      "15 \t 14\n",
      "11 \t 14\n",
      "10 \t 13\n",
      "11 \t 14\n",
      "13 \t 14\n",
      "12 \t 11\n",
      "14 \t 14\n",
      "12 \t 14\n",
      "13 \t 13\n",
      "11 \t 11\n",
      "12 \t 11\n",
      "13 \t 14\n",
      "13 \t 12\n",
      "8 \t 11\n",
      "16 \t 15\n",
      "12 \t 13\n",
      "10 \t 12\n",
      "16 \t 14\n",
      "10 \t 12\n",
      "10 \t 13\n",
      "14 \t 14\n",
      "11 \t 12\n",
      "14 \t 14\n",
      "14 \t 14\n",
      "11 \t 15\n",
      "10 \t 9\n",
      "18 \t 13\n",
      "10 \t 12\n",
      "14 \t 14\n",
      "16 \t 15\n",
      "15 \t 12\n",
      "11 \t 10\n",
      "14 \t 13\n",
      "14 \t 14\n",
      "13 \t 13\n",
      "13 \t 14\n",
      "13 \t 13\n",
      "11 \t 12\n",
      "9 \t 11\n",
      "11 \t 13\n",
      "11 \t 9\n",
      "15 \t 13\n",
      "13 \t 13\n",
      "12 \t 15\n",
      "8 \t 8\n",
      "11 \t 13\n",
      "13 \t 13\n",
      "12 \t 12\n",
      "14 \t 12\n",
      "11 \t 11\n",
      "11 \t 9\n",
      "11 \t 11\n",
      "15 \t 14\n",
      "10 \t 11\n",
      "13 \t 12\n",
      "12 \t 10\n",
      "11 \t 13\n",
      "11 \t 12\n",
      "10 \t 14\n",
      "10 \t 9\n",
      "14 \t 15\n",
      "9 \t 10\n",
      "11 \t 13\n",
      "9 \t 11\n",
      "13 \t 13\n",
      "11 \t 12\n",
      "13 \t 15\n",
      "11 \t 13\n",
      "6 \t 10\n",
      "12 \t 13\n",
      "10 \t 11\n",
      "11 \t 11\n",
      "13 \t 14\n",
      "11 \t 12\n",
      "8 \t 11\n",
      "11 \t 11\n",
      "0 \t 7\n",
      "10 \t 9\n",
      "13 \t 13\n",
      "11 \t 12\n",
      "13 \t 13\n",
      "8 \t 11\n",
      "10 \t 9\n",
      "11 \t 10\n",
      "11 \t 13\n",
      "1 \t 6\n",
      "10 \t 10\n",
      "9 \t 7\n",
      "8 \t 8\n",
      "10 \t 12\n",
      "8 \t 8\n",
      "8 \t 9\n",
      "8 \t 9\n",
      "11 \t 11\n",
      "18 \t 15\n",
      "13 \t 13\n",
      "17 \t 14\n",
      "10 \t 10\n",
      "18 \t 14\n",
      "10 \t 14\n",
      "13 \t 12\n",
      "15 \t 14\n",
      "11 \t 12\n",
      "14 \t 13\n",
      "10 \t 14\n",
      "11 \t 11\n",
      "13 \t 13\n",
      "11 \t 12\n",
      "13 \t 14\n",
      "17 \t 14\n",
      "14 \t 13\n",
      "16 \t 14\n",
      "14 \t 12\n",
      "11 \t 11\n",
      "16 \t 13\n",
      "14 \t 13\n",
      "10 \t 12\n",
      "13 \t 14\n",
      "12 \t 13\n",
      "12 \t 10\n",
      "10 \t 12\n",
      "12 \t 12\n",
      "16 \t 15\n",
      "14 \t 14\n",
      "12 \t 13\n",
      "16 \t 12\n",
      "11 \t 16\n",
      "15 \t 14\n",
      "12 \t 12\n",
      "15 \t 14\n",
      "13 \t 12\n",
      "13 \t 13\n",
      "8 \t 10\n",
      "12 \t 12\n",
      "15 \t 13\n",
      "13 \t 12\n",
      "12 \t 15\n",
      "12 \t 15\n",
      "12 \t 10\n",
      "13 \t 12\n",
      "11 \t 12\n",
      "11 \t 12\n",
      "15 \t 15\n",
      "10 \t 12\n",
      "10 \t 13\n",
      "13 \t 12\n",
      "13 \t 15\n",
      "11 \t 12\n",
      "12 \t 13\n",
      "14 \t 11\n",
      "10 \t 9\n",
      "16 \t 14\n",
      "8 \t 13\n",
      "17 \t 13\n",
      "11 \t 13\n",
      "11 \t 9\n",
      "16 \t 13\n",
      "12 \t 15\n",
      "13 \t 14\n",
      "13 \t 13\n",
      "14 \t 15\n",
      "9 \t 12\n",
      "12 \t 13\n",
      "16 \t 14\n",
      "10 \t 12\n",
      "13 \t 12\n",
      "10 \t 12\n",
      "10 \t 9\n",
      "7 \t 8\n",
      "8 \t 9\n",
      "9 \t 13\n",
      "15 \t 14\n",
      "10 \t 15\n",
      "11 \t 10\n",
      "13 \t 11\n",
      "8 \t 10\n",
      "8 \t 12\n",
      "10 \t 10\n",
      "15 \t 14\n",
      "14 \t 15\n",
      "15 \t 12\n",
      "12 \t 13\n",
      "15 \t 12\n",
      "15 \t 13\n",
      "12 \t 11\n",
      "15 \t 14\n",
      "11 \t 14\n",
      "10 \t 12\n",
      "11 \t 14\n",
      "16 \t 13\n",
      "11 \t 12\n",
      "13 \t 14\n",
      "5 \t 7\n",
      "10 \t 12\n",
      "11 \t 11\n",
      "7 \t 10\n",
      "10 \t 10\n",
      "6 \t 6\n",
      "12 \t 11\n",
      "13 \t 12\n",
      "10 \t 11\n",
      "13 \t 12\n",
      "17 \t 16\n",
      "11 \t 14\n",
      "11 \t 7\n",
      "14 \t 14\n",
      "14 \t 14\n",
      "13 \t 12\n",
      "14 \t 14\n",
      "16 \t 13\n",
      "10 \t 11\n",
      "12 \t 14\n",
      "12 \t 12\n",
      "15 \t 15\n",
      "11 \t 14\n",
      "12 \t 13\n",
      "13 \t 15\n",
      "13 \t 14\n",
      "9 \t 11\n",
      "16 \t 14\n",
      "14 \t 12\n",
      "12 \t 14\n",
      "14 \t 13\n",
      "10 \t 10\n",
      "12 \t 13\n",
      "16 \t 14\n",
      "13 \t 14\n",
      "18 \t 12\n",
      "15 \t 13\n",
      "16 \t 14\n",
      "12 \t 12\n",
      "10 \t 10\n",
      "12 \t 13\n",
      "13 \t 10\n",
      "15 \t 16\n",
      "10 \t 6\n",
      "10 \t 15\n",
      "11 \t 11\n",
      "10 \t 11\n",
      "13 \t 12\n",
      "18 \t 15\n",
      "13 \t 13\n",
      "14 \t 12\n",
      "14 \t 12\n",
      "12 \t 14\n",
      "18 \t 14\n",
      "14 \t 15\n",
      "15 \t 14\n",
      "17 \t 15\n",
      "16 \t 13\n",
      "18 \t 16\n",
      "19 \t 14\n",
      "15 \t 15\n",
      "15 \t 13\n",
      "13 \t 15\n",
      "14 \t 15\n",
      "17 \t 15\n",
      "17 \t 14\n",
      "15 \t 15\n",
      "13 \t 13\n",
      "8 \t 14\n",
      "16 \t 15\n",
      "18 \t 15\n",
      "11 \t 9\n",
      "15 \t 10\n",
      "11 \t 12\n",
      "11 \t 12\n",
      "15 \t 14\n",
      "14 \t 13\n",
      "17 \t 14\n",
      "17 \t 14\n",
      "15 \t 15\n",
      "17 \t 14\n",
      "14 \t 14\n",
      "10 \t 14\n",
      "13 \t 14\n",
      "14 \t 14\n",
      "17 \t 13\n",
      "17 \t 13\n",
      "13 \t 12\n",
      "14 \t 15\n",
      "11 \t 14\n",
      "11 \t 9\n",
      "9 \t 11\n",
      "10 \t 12\n",
      "13 \t 14\n",
      "10 \t 14\n",
      "17 \t 13\n",
      "15 \t 14\n",
      "14 \t 14\n",
      "13 \t 14\n",
      "17 \t 12\n",
      "10 \t 12\n",
      "13 \t 14\n",
      "15 \t 16\n",
      "11 \t 13\n",
      "12 \t 12\n",
      "10 \t 11\n",
      "10 \t 13\n",
      "15 \t 14\n",
      "15 \t 13\n",
      "12 \t 14\n",
      "12 \t 15\n",
      "14 \t 14\n",
      "14 \t 14\n",
      "15 \t 14\n",
      "15 \t 15\n",
      "16 \t 13\n",
      "13 \t 14\n",
      "17 \t 14\n",
      "14 \t 11\n",
      "14 \t 14\n",
      "17 \t 13\n",
      "17 \t 13\n",
      "14 \t 12\n",
      "13 \t 15\n",
      "15 \t 13\n",
      "16 \t 13\n",
      "11 \t 9\n",
      "13 \t 10\n",
      "12 \t 13\n",
      "12 \t 12\n",
      "15 \t 13\n",
      "17 \t 14\n",
      "15 \t 16\n",
      "17 \t 16\n",
      "10 \t 8\n",
      "15 \t 15\n",
      "11 \t 9\n",
      "18 \t 12\n",
      "17 \t 15\n",
      "14 \t 10\n",
      "11 \t 12\n",
      "17 \t 14\n",
      "10 \t 9\n",
      "13 \t 15\n",
      "11 \t 9\n",
      "12 \t 12\n",
      "10 \t 7\n",
      "11 \t 10\n",
      "17 \t 11\n",
      "9 \t 9\n",
      "11 \t 12\n",
      "11 \t 10\n",
      "10 \t 9\n",
      "7 \t 6\n",
      "14 \t 10\n",
      "11 \t 10\n",
      "10 \t 12\n",
      "8 \t 8\n",
      "12 \t 11\n",
      "12 \t 11\n",
      "16 \t 12\n",
      "0 \t 7\n",
      "9 \t 10\n",
      "14 \t 12\n",
      "8 \t 12\n",
      "11 \t 9\n",
      "9 \t 8\n",
      "11 \t 12\n",
      "9 \t 7\n",
      "17 \t 15\n",
      "13 \t 12\n",
      "15 \t 12\n",
      "11 \t 11\n",
      "11 \t 12\n",
      "8 \t 9\n",
      "8 \t 9\n",
      "9 \t 11\n",
      "15 \t 12\n",
      "11 \t 10\n",
      "13 \t 13\n",
      "10 \t 10\n",
      "11 \t 12\n",
      "14 \t 10\n",
      "14 \t 12\n",
      "12 \t 10\n",
      "11 \t 9\n",
      "8 \t 9\n",
      "11 \t 10\n",
      "14 \t 12\n",
      "13 \t 12\n",
      "13 \t 12\n",
      "12 \t 12\n",
      "12 \t 8\n",
      "16 \t 13\n",
      "10 \t 10\n",
      "11 \t 13\n",
      "14 \t 13\n",
      "8 \t 10\n",
      "11 \t 11\n",
      "8 \t 8\n",
      "10 \t 10\n",
      "10 \t 9\n",
      "11 \t 9\n",
      "9 \t 9\n",
      "11 \t 11\n",
      "8 \t 10\n",
      "11 \t 12\n",
      "10 \t 9\n",
      "10 \t 9\n",
      "9 \t 7\n",
      "10 \t 8\n",
      "10 \t 8\n",
      "9 \t 8\n",
      "10 \t 12\n",
      "10 \t 11\n",
      "9 \t 10\n",
      "13 \t 11\n",
      "14 \t 11\n",
      "10 \t 9\n",
      "14 \t 12\n",
      "16 \t 11\n",
      "7 \t 7\n",
      "13 \t 12\n",
      "9 \t 8\n",
      "14 \t 11\n",
      "13 \t 13\n",
      "11 \t 11\n",
      "10 \t 8\n",
      "10 \t 12\n",
      "9 \t 8\n",
      "18 \t 13\n",
      "17 \t 13\n",
      "10 \t 12\n",
      "7 \t 8\n",
      "8 \t 12\n",
      "7 \t 12\n",
      "10 \t 10\n",
      "16 \t 14\n",
      "15 \t 12\n",
      "8 \t 10\n",
      "0 \t 10\n",
      "8 \t 12\n",
      "10 \t 11\n",
      "8 \t 12\n",
      "6 \t 9\n",
      "8 \t 12\n",
      "16 \t 13\n",
      "14 \t 11\n",
      "10 \t 11\n",
      "9 \t 10\n",
      "11 \t 12\n",
      "9 \t 11\n",
      "10 \t 11\n",
      "8 \t 11\n",
      "16 \t 11\n",
      "12 \t 12\n",
      "10 \t 10\n",
      "14 \t 11\n",
      "12 \t 10\n",
      "11 \t 11\n",
      "10 \t 12\n",
      "11 \t 12\n",
      "11 \t 10\n",
      "12 \t 11\n",
      "8 \t 9\n",
      "12 \t 12\n",
      "8 \t 8\n",
      "16 \t 13\n",
      "11 \t 12\n",
      "11 \t 11\n",
      "18 \t 11\n",
      "13 \t 11\n",
      "13 \t 12\n",
      "10 \t 7\n",
      "12 \t 12\n",
      "10 \t 9\n",
      "13 \t 11\n",
      "11 \t 10\n",
      "10 \t 8\n",
      "10 \t 8\n",
      "13 \t 10\n",
      "10 \t 10\n",
      "10 \t 11\n",
      "12 \t 12\n",
      "0 \t 6\n",
      "10 \t 11\n",
      "9 \t 10\n",
      "9 \t 6\n",
      "0 \t 5\n",
      "9 \t 8\n",
      "8 \t 7\n",
      "8 \t 10\n",
      "9 \t 7\n",
      "7 \t 8\n",
      "10 \t 12\n",
      "10 \t 7\n",
      "10 \t 12\n",
      "11 \t 9\n",
      "11 \t 10\n",
      "10 \t 9\n",
      "9 \t 9\n",
      "10 \t 9\n",
      "8 \t 9\n",
      "7 \t 9\n",
      "0 \t 6\n",
      "11 \t 12\n",
      "8 \t 11\n",
      "0 \t 10\n",
      "8 \t 10\n",
      "9 \t 12\n",
      "10 \t 12\n",
      "7 \t 8\n",
      "14 \t 14\n",
      "13 \t 13\n",
      "14 \t 14\n",
      "18 \t 15\n",
      "17 \t 12\n",
      "18 \t 13\n",
      "0 \t 10\n",
      "11 \t 12\n",
      "14 \t 10\n",
      "14 \t 10\n",
      "10 \t 11\n",
      "13 \t 13\n",
      "0 \t 11\n",
      "10 \t 9\n",
      "0 \t 6\n",
      "18 \t 15\n",
      "12 \t 12\n",
      "11 \t 12\n",
      "12 \t 11\n",
      "0 \t 7\n",
      "15 \t 13\n",
      "11 \t 9\n",
      "10 \t 12\n",
      "12 \t 12\n",
      "15 \t 12\n",
      "14 \t 11\n",
      "18 \t 14\n",
      "15 \t 12\n",
      "13 \t 12\n",
      "15 \t 13\n",
      "13 \t 13\n",
      "9 \t 10\n",
      "16 \t 13\n",
      "9 \t 9\n",
      "10 \t 13\n",
      "0 \t 12\n",
      "10 \t 9\n",
      "12 \t 12\n",
      "9 \t 12\n",
      "17 \t 14\n",
      "12 \t 13\n",
      "9 \t 10\n",
      "14 \t 13\n",
      "16 \t 13\n",
      "9 \t 12\n",
      "19 \t 14\n",
      "0 \t 10\n",
      "16 \t 12\n",
      "0 \t 7\n",
      "0 \t 6\n",
      "15 \t 12\n",
      "11 \t 13\n",
      "10 \t 13\n",
      "10 \t 11\n",
      "16 \t 13\n",
      "9 \t 10\n",
      "10 \t 11\n",
      "11 \t 12\n"
     ]
    }
   ],
   "source": [
    "print('Actual\\t Predicted')\n",
    "\n",
    "for i in range(y.shape[0]):\n",
    "    print(y[i], '\\t', int(round(predictions[i])))"
   ]
  },
  {
   "cell_type": "code",
   "execution_count": 150,
   "metadata": {},
   "outputs": [
    {
     "data": {
      "text/plain": [
       "(0, 19)"
      ]
     },
     "execution_count": 150,
     "metadata": {},
     "output_type": "execute_result"
    }
   ],
   "source": [
    "np.min(por.G3), np.max(por.G3)"
   ]
  },
  {
   "cell_type": "code",
   "execution_count": 151,
   "metadata": {},
   "outputs": [
    {
     "data": {
      "text/plain": [
       "1.8394128314410365"
      ]
     },
     "execution_count": 151,
     "metadata": {},
     "output_type": "execute_result"
    }
   ],
   "source": [
    "from sklearn.metrics import mean_absolute_error\n",
    "mean_absolute_error(y, predictions)"
   ]
  },
  {
   "cell_type": "markdown",
   "metadata": {},
   "source": [
    "Not bad at all! Our linear regression model results in an average error of 1.84 when predicting final grade scores. \n",
    "\n",
    "(Final grade scores are on a 0 - 20 scale.)"
   ]
  },
  {
   "cell_type": "markdown",
   "metadata": {},
   "source": [
    "## Support Vector Regressor Model"
   ]
  },
  {
   "cell_type": "code",
   "execution_count": 152,
   "metadata": {},
   "outputs": [
    {
     "data": {
      "text/plain": [
       "0.10464845391574804"
      ]
     },
     "execution_count": 152,
     "metadata": {},
     "output_type": "execute_result"
    }
   ],
   "source": [
    "from sklearn.svm import SVR\n",
    "svm = SVR(kernel='rbf', gamma='scale', C=1000)\n",
    "svm.fit(X, y)\n",
    "mean_absolute_error(y, svm.predict(X))"
   ]
  },
  {
   "cell_type": "markdown",
   "metadata": {},
   "source": [
    "An SVR model is able to learn non-linear associations in data. For this reason, an SVR will often outperform a linear model.\n",
    "\n",
    "The parameter C controls regularization. The higher the C value, the less regularization. Therefore, if I make C very high, I will get great performance on the train set. \n",
    "\n",
    "I haven't train/test split the data, so the model may be overfitting and these results may be misleading."
   ]
  }
 ],
 "metadata": {
  "kernelspec": {
   "display_name": "Python 3",
   "language": "python",
   "name": "python3"
  },
  "language_info": {
   "codemirror_mode": {
    "name": "ipython",
    "version": 3
   },
   "file_extension": ".py",
   "mimetype": "text/x-python",
   "name": "python",
   "nbconvert_exporter": "python",
   "pygments_lexer": "ipython3",
   "version": "3.6.6"
  }
 },
 "nbformat": 4,
 "nbformat_minor": 2
}
