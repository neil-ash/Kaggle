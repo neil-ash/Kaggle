{
 "cells": [
  {
   "cell_type": "markdown",
   "metadata": {},
   "source": [
    "# Comprehensive Model for Titanic Dataset"
   ]
  },
  {
   "cell_type": "code",
   "execution_count": 355,
   "metadata": {},
   "outputs": [],
   "source": [
    "# basic imports\n",
    "import numpy as np\n",
    "import pandas as pd"
   ]
  },
  {
   "cell_type": "code",
   "execution_count": 356,
   "metadata": {},
   "outputs": [],
   "source": [
    "# load both train and test sets\n",
    "train = pd.read_csv('train.csv')\n",
    "test = pd.read_csv('test.csv')"
   ]
  },
  {
   "cell_type": "markdown",
   "metadata": {},
   "source": [
    "Want:\n",
    "- pclass\n",
    "- sex\n",
    "- age\n",
    "- sibsp (?)\n",
    "- fare\n",
    "- embarked"
   ]
  },
  {
   "cell_type": "code",
   "execution_count": 357,
   "metadata": {},
   "outputs": [],
   "source": [
    "# choose features to use\n",
    "pclass = np.append(train.Pclass.values, test.Pclass.values).reshape(-1, 1)\n",
    "sex = np.append(train.Sex.values, test.Sex.values).reshape(-1, 1)\n",
    "age = np.append(train.Age.values, test.Age.values).reshape(-1, 1)\n",
    "sibsp = np.append(train.SibSp.values, test.SibSp.values).reshape(-1, 1)\n",
    "fare = np.append(train.Fare.values, test.Fare.values).reshape(-1, 1)\n",
    "embarked = np.append(train.Embarked.values, test.Embarked.values).reshape(-1, 1)\n",
    "\n",
    "# save labels\n",
    "survived = train.Survived.values"
   ]
  },
  {
   "cell_type": "code",
   "execution_count": 358,
   "metadata": {},
   "outputs": [],
   "source": [
    "# one-hot encode pclass\n",
    "from sklearn.preprocessing import LabelEncoder, OneHotEncoder\n",
    "labelencoder = LabelEncoder()\n",
    "pclass = labelencoder.fit_transform(pclass.ravel())\n",
    "onehotencoder = OneHotEncoder()\n",
    "pclass = onehotencoder.fit_transform(pclass.reshape(-1, 1)).toarray()"
   ]
  },
  {
   "cell_type": "code",
   "execution_count": 359,
   "metadata": {},
   "outputs": [],
   "source": [
    "# one-hot encode sex\n",
    "sex = np.asarray([1 if i == 'male' else 0 for i in sex]).reshape(-1, 1)"
   ]
  },
  {
   "cell_type": "code",
   "execution_count": 360,
   "metadata": {},
   "outputs": [],
   "source": [
    "# fill in missing values in age\n",
    "from sklearn.preprocessing import Imputer\n",
    "imputer = Imputer(missing_values='NaN', strategy='mean')\n",
    "age = imputer.fit_transform(age)"
   ]
  },
  {
   "cell_type": "code",
   "execution_count": 361,
   "metadata": {},
   "outputs": [],
   "source": [
    "# one-hot encode sibsp\n",
    "sibsp = onehotencoder.fit_transform(sibsp).toarray()"
   ]
  },
  {
   "cell_type": "code",
   "execution_count": 362,
   "metadata": {},
   "outputs": [],
   "source": [
    "# fill in missing values in fare\n",
    "fare = imputer.fit_transform(fare)"
   ]
  },
  {
   "cell_type": "code",
   "execution_count": 363,
   "metadata": {},
   "outputs": [],
   "source": [
    "# one hot encode embarked\n",
    "embarked = labelencoder.fit_transform(embarked.ravel().astype(str))\n",
    "embarked = onehotencoder.fit_transform(embarked.reshape(-1, 1)).toarray()"
   ]
  },
  {
   "cell_type": "code",
   "execution_count": 364,
   "metadata": {},
   "outputs": [],
   "source": [
    "# some missing values in embarked, forget about\n",
    "embarked = embarked[:, :-1]"
   ]
  },
  {
   "cell_type": "code",
   "execution_count": 365,
   "metadata": {},
   "outputs": [],
   "source": [
    "# combine features\n",
    "X = np.hstack((pclass, \n",
    "              sex,\n",
    "              age,\n",
    "              sibsp,\n",
    "              fare,\n",
    "              embarked))\n",
    "\n",
    "# rename labels\n",
    "y = survived\n",
    "\n",
    "# count number of training points\n",
    "m = y.size"
   ]
  },
  {
   "cell_type": "markdown",
   "metadata": {},
   "source": [
    "## Create Model"
   ]
  },
  {
   "cell_type": "code",
   "execution_count": 366,
   "metadata": {},
   "outputs": [
    {
     "data": {
      "text/plain": [
       "RandomForestClassifier(bootstrap=True, class_weight=None, criterion='gini',\n",
       "            max_depth=None, max_features='auto', max_leaf_nodes=None,\n",
       "            min_impurity_decrease=0.0, min_impurity_split=None,\n",
       "            min_samples_leaf=1, min_samples_split=2,\n",
       "            min_weight_fraction_leaf=0.0, n_estimators=500, n_jobs=1,\n",
       "            oob_score=False, random_state=None, verbose=0,\n",
       "            warm_start=False)"
      ]
     },
     "execution_count": 366,
     "metadata": {},
     "output_type": "execute_result"
    }
   ],
   "source": [
    "# create random forest\n",
    "from sklearn.ensemble import RandomForestClassifier\n",
    "forest = RandomForestClassifier(n_estimators=500)\n",
    "forest.fit(X[:m], y)"
   ]
  },
  {
   "cell_type": "code",
   "execution_count": 367,
   "metadata": {},
   "outputs": [
    {
     "data": {
      "text/plain": [
       "0.98092031425364756"
      ]
     },
     "execution_count": 367,
     "metadata": {},
     "output_type": "execute_result"
    }
   ],
   "source": [
    "# make predictions on training set\n",
    "y_pred = forest.predict(X[:m])\n",
    "\n",
    "# see performance on training set\n",
    "from sklearn.metrics import accuracy_score\n",
    "accuracy_score(y, y_pred)"
   ]
  },
  {
   "cell_type": "code",
   "execution_count": 368,
   "metadata": {},
   "outputs": [],
   "source": [
    "# make predictions on test set\n",
    "predictions = forest.predict(X[m:])"
   ]
  },
  {
   "cell_type": "code",
   "execution_count": 369,
   "metadata": {},
   "outputs": [],
   "source": [
    "# include predictions and passenger ID\n",
    "predictions = np.hstack((test.PassengerId.values.reshape(-1, 1),\n",
    "                       predictions.reshape(-1, 1)))\n",
    "\n",
    "predictions = np.vstack((np.array([['PassengerID', 'Survived']]),\n",
    "                       predictions))\n",
    "\n",
    "# save predictions to csv file (for Kaggle)\n",
    "np.savetxt('titanic_random_forest_predictions.csv', \n",
    "           predictions, \n",
    "           delimiter=',', \n",
    "           fmt='%s')"
   ]
  }
 ],
 "metadata": {
  "kernelspec": {
   "display_name": "Python 3",
   "language": "python",
   "name": "python3"
  },
  "language_info": {
   "codemirror_mode": {
    "name": "ipython",
    "version": 3
   },
   "file_extension": ".py",
   "mimetype": "text/x-python",
   "name": "python",
   "nbconvert_exporter": "python",
   "pygments_lexer": "ipython3",
   "version": "3.6.6"
  }
 },
 "nbformat": 4,
 "nbformat_minor": 2
}
