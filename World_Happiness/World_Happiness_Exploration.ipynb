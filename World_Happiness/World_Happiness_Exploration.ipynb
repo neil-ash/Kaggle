{
 "cells": [
  {
   "cell_type": "markdown",
   "metadata": {},
   "source": [
    "# World Happiness Report\n",
    "2015 - 2017 data, starting with 2015 dataset\n",
    "\n",
    "Important points from overview: www.kaggle.com/unsdsn/world-happiness/home\n",
    "\n",
    "## Content\n",
    "The happiness scores and rankings use data from the Gallup World Poll. The scores are based on answers to the main life evaluation question asked in the poll. This question, known as the Cantril ladder, asks respondents to think of a ladder with the best possible life for them being a 10 and the worst possible life being a 0 and to rate their own current lives on that scale. The scores are from nationally representative samples for the years 2013-2016 and use the Gallup weights to make the estimates representative. The columns following the happiness score estimate the extent to which each of six factors – economic production, social support, life expectancy, freedom, absence of corruption, and generosity – contribute to making life evaluations higher in each country than they are in Dystopia, a hypothetical country that has values equal to the world’s lowest national averages for each of the six factors. They have no impact on the total score reported for each country, but they do explain why some countries rank higher than others.\n",
    "\n",
    "## Columns succeeding happiness score\n",
    "The following columns: GDP per Capita, Family, Life Expectancy, Freedom, Generosity, Trust Government Corruption describe the extent to which these factors contribute in evaluating the happiness in each country. The Dystopia Residual metric actually is the Dystopia Happiness Score(1.85) + the Residual value or the unexplained value for each country as stated in the previous answer. \n",
    "#### If you add all these factors up, you get the happiness score so it might be un-reliable to model them to predict Happiness Scores."
   ]
  },
  {
   "cell_type": "code",
   "execution_count": 1,
   "metadata": {},
   "outputs": [],
   "source": [
    "# ALL imports in topmost cell\n",
    "import numpy as np\n",
    "import pandas as pd\n",
    "import seaborn as sns\n",
    "import matplotlib.pyplot as plt\n",
    "import matplotlib.style; matplotlib.style.use('ggplot')"
   ]
  },
  {
   "cell_type": "code",
   "execution_count": 2,
   "metadata": {},
   "outputs": [],
   "source": [
    "df = pd.read_csv('data/2015.csv')"
   ]
  },
  {
   "cell_type": "code",
   "execution_count": 3,
   "metadata": {},
   "outputs": [
    {
     "data": {
      "text/html": [
       "<div>\n",
       "<style scoped>\n",
       "    .dataframe tbody tr th:only-of-type {\n",
       "        vertical-align: middle;\n",
       "    }\n",
       "\n",
       "    .dataframe tbody tr th {\n",
       "        vertical-align: top;\n",
       "    }\n",
       "\n",
       "    .dataframe thead th {\n",
       "        text-align: right;\n",
       "    }\n",
       "</style>\n",
       "<table border=\"1\" class=\"dataframe\">\n",
       "  <thead>\n",
       "    <tr style=\"text-align: right;\">\n",
       "      <th></th>\n",
       "      <th>Country</th>\n",
       "      <th>Region</th>\n",
       "      <th>Happiness Rank</th>\n",
       "      <th>Happiness Score</th>\n",
       "      <th>Standard Error</th>\n",
       "      <th>Economy (GDP per Capita)</th>\n",
       "      <th>Family</th>\n",
       "      <th>Health (Life Expectancy)</th>\n",
       "      <th>Freedom</th>\n",
       "      <th>Trust (Government Corruption)</th>\n",
       "      <th>Generosity</th>\n",
       "      <th>Dystopia Residual</th>\n",
       "    </tr>\n",
       "  </thead>\n",
       "  <tbody>\n",
       "    <tr>\n",
       "      <th>0</th>\n",
       "      <td>Switzerland</td>\n",
       "      <td>Western Europe</td>\n",
       "      <td>1</td>\n",
       "      <td>7.587</td>\n",
       "      <td>0.03411</td>\n",
       "      <td>1.39651</td>\n",
       "      <td>1.34951</td>\n",
       "      <td>0.94143</td>\n",
       "      <td>0.66557</td>\n",
       "      <td>0.41978</td>\n",
       "      <td>0.29678</td>\n",
       "      <td>2.51738</td>\n",
       "    </tr>\n",
       "    <tr>\n",
       "      <th>1</th>\n",
       "      <td>Iceland</td>\n",
       "      <td>Western Europe</td>\n",
       "      <td>2</td>\n",
       "      <td>7.561</td>\n",
       "      <td>0.04884</td>\n",
       "      <td>1.30232</td>\n",
       "      <td>1.40223</td>\n",
       "      <td>0.94784</td>\n",
       "      <td>0.62877</td>\n",
       "      <td>0.14145</td>\n",
       "      <td>0.43630</td>\n",
       "      <td>2.70201</td>\n",
       "    </tr>\n",
       "    <tr>\n",
       "      <th>2</th>\n",
       "      <td>Denmark</td>\n",
       "      <td>Western Europe</td>\n",
       "      <td>3</td>\n",
       "      <td>7.527</td>\n",
       "      <td>0.03328</td>\n",
       "      <td>1.32548</td>\n",
       "      <td>1.36058</td>\n",
       "      <td>0.87464</td>\n",
       "      <td>0.64938</td>\n",
       "      <td>0.48357</td>\n",
       "      <td>0.34139</td>\n",
       "      <td>2.49204</td>\n",
       "    </tr>\n",
       "    <tr>\n",
       "      <th>3</th>\n",
       "      <td>Norway</td>\n",
       "      <td>Western Europe</td>\n",
       "      <td>4</td>\n",
       "      <td>7.522</td>\n",
       "      <td>0.03880</td>\n",
       "      <td>1.45900</td>\n",
       "      <td>1.33095</td>\n",
       "      <td>0.88521</td>\n",
       "      <td>0.66973</td>\n",
       "      <td>0.36503</td>\n",
       "      <td>0.34699</td>\n",
       "      <td>2.46531</td>\n",
       "    </tr>\n",
       "    <tr>\n",
       "      <th>4</th>\n",
       "      <td>Canada</td>\n",
       "      <td>North America</td>\n",
       "      <td>5</td>\n",
       "      <td>7.427</td>\n",
       "      <td>0.03553</td>\n",
       "      <td>1.32629</td>\n",
       "      <td>1.32261</td>\n",
       "      <td>0.90563</td>\n",
       "      <td>0.63297</td>\n",
       "      <td>0.32957</td>\n",
       "      <td>0.45811</td>\n",
       "      <td>2.45176</td>\n",
       "    </tr>\n",
       "  </tbody>\n",
       "</table>\n",
       "</div>"
      ],
      "text/plain": [
       "       Country          Region  Happiness Rank  Happiness Score  \\\n",
       "0  Switzerland  Western Europe               1            7.587   \n",
       "1      Iceland  Western Europe               2            7.561   \n",
       "2      Denmark  Western Europe               3            7.527   \n",
       "3       Norway  Western Europe               4            7.522   \n",
       "4       Canada   North America               5            7.427   \n",
       "\n",
       "   Standard Error  Economy (GDP per Capita)   Family  \\\n",
       "0         0.03411                   1.39651  1.34951   \n",
       "1         0.04884                   1.30232  1.40223   \n",
       "2         0.03328                   1.32548  1.36058   \n",
       "3         0.03880                   1.45900  1.33095   \n",
       "4         0.03553                   1.32629  1.32261   \n",
       "\n",
       "   Health (Life Expectancy)  Freedom  Trust (Government Corruption)  \\\n",
       "0                   0.94143  0.66557                        0.41978   \n",
       "1                   0.94784  0.62877                        0.14145   \n",
       "2                   0.87464  0.64938                        0.48357   \n",
       "3                   0.88521  0.66973                        0.36503   \n",
       "4                   0.90563  0.63297                        0.32957   \n",
       "\n",
       "   Generosity  Dystopia Residual  \n",
       "0     0.29678            2.51738  \n",
       "1     0.43630            2.70201  \n",
       "2     0.34139            2.49204  \n",
       "3     0.34699            2.46531  \n",
       "4     0.45811            2.45176  "
      ]
     },
     "execution_count": 3,
     "metadata": {},
     "output_type": "execute_result"
    }
   ],
   "source": [
    "# happy countries\n",
    "df.head()"
   ]
  },
  {
   "cell_type": "code",
   "execution_count": 4,
   "metadata": {},
   "outputs": [
    {
     "data": {
      "text/html": [
       "<div>\n",
       "<style scoped>\n",
       "    .dataframe tbody tr th:only-of-type {\n",
       "        vertical-align: middle;\n",
       "    }\n",
       "\n",
       "    .dataframe tbody tr th {\n",
       "        vertical-align: top;\n",
       "    }\n",
       "\n",
       "    .dataframe thead th {\n",
       "        text-align: right;\n",
       "    }\n",
       "</style>\n",
       "<table border=\"1\" class=\"dataframe\">\n",
       "  <thead>\n",
       "    <tr style=\"text-align: right;\">\n",
       "      <th></th>\n",
       "      <th>Country</th>\n",
       "      <th>Region</th>\n",
       "      <th>Happiness Rank</th>\n",
       "      <th>Happiness Score</th>\n",
       "      <th>Standard Error</th>\n",
       "      <th>Economy (GDP per Capita)</th>\n",
       "      <th>Family</th>\n",
       "      <th>Health (Life Expectancy)</th>\n",
       "      <th>Freedom</th>\n",
       "      <th>Trust (Government Corruption)</th>\n",
       "      <th>Generosity</th>\n",
       "      <th>Dystopia Residual</th>\n",
       "    </tr>\n",
       "  </thead>\n",
       "  <tbody>\n",
       "    <tr>\n",
       "      <th>153</th>\n",
       "      <td>Rwanda</td>\n",
       "      <td>Sub-Saharan Africa</td>\n",
       "      <td>154</td>\n",
       "      <td>3.465</td>\n",
       "      <td>0.03464</td>\n",
       "      <td>0.22208</td>\n",
       "      <td>0.77370</td>\n",
       "      <td>0.42864</td>\n",
       "      <td>0.59201</td>\n",
       "      <td>0.55191</td>\n",
       "      <td>0.22628</td>\n",
       "      <td>0.67042</td>\n",
       "    </tr>\n",
       "    <tr>\n",
       "      <th>154</th>\n",
       "      <td>Benin</td>\n",
       "      <td>Sub-Saharan Africa</td>\n",
       "      <td>155</td>\n",
       "      <td>3.340</td>\n",
       "      <td>0.03656</td>\n",
       "      <td>0.28665</td>\n",
       "      <td>0.35386</td>\n",
       "      <td>0.31910</td>\n",
       "      <td>0.48450</td>\n",
       "      <td>0.08010</td>\n",
       "      <td>0.18260</td>\n",
       "      <td>1.63328</td>\n",
       "    </tr>\n",
       "    <tr>\n",
       "      <th>155</th>\n",
       "      <td>Syria</td>\n",
       "      <td>Middle East and Northern Africa</td>\n",
       "      <td>156</td>\n",
       "      <td>3.006</td>\n",
       "      <td>0.05015</td>\n",
       "      <td>0.66320</td>\n",
       "      <td>0.47489</td>\n",
       "      <td>0.72193</td>\n",
       "      <td>0.15684</td>\n",
       "      <td>0.18906</td>\n",
       "      <td>0.47179</td>\n",
       "      <td>0.32858</td>\n",
       "    </tr>\n",
       "    <tr>\n",
       "      <th>156</th>\n",
       "      <td>Burundi</td>\n",
       "      <td>Sub-Saharan Africa</td>\n",
       "      <td>157</td>\n",
       "      <td>2.905</td>\n",
       "      <td>0.08658</td>\n",
       "      <td>0.01530</td>\n",
       "      <td>0.41587</td>\n",
       "      <td>0.22396</td>\n",
       "      <td>0.11850</td>\n",
       "      <td>0.10062</td>\n",
       "      <td>0.19727</td>\n",
       "      <td>1.83302</td>\n",
       "    </tr>\n",
       "    <tr>\n",
       "      <th>157</th>\n",
       "      <td>Togo</td>\n",
       "      <td>Sub-Saharan Africa</td>\n",
       "      <td>158</td>\n",
       "      <td>2.839</td>\n",
       "      <td>0.06727</td>\n",
       "      <td>0.20868</td>\n",
       "      <td>0.13995</td>\n",
       "      <td>0.28443</td>\n",
       "      <td>0.36453</td>\n",
       "      <td>0.10731</td>\n",
       "      <td>0.16681</td>\n",
       "      <td>1.56726</td>\n",
       "    </tr>\n",
       "  </tbody>\n",
       "</table>\n",
       "</div>"
      ],
      "text/plain": [
       "     Country                           Region  Happiness Rank  \\\n",
       "153   Rwanda               Sub-Saharan Africa             154   \n",
       "154    Benin               Sub-Saharan Africa             155   \n",
       "155    Syria  Middle East and Northern Africa             156   \n",
       "156  Burundi               Sub-Saharan Africa             157   \n",
       "157     Togo               Sub-Saharan Africa             158   \n",
       "\n",
       "     Happiness Score  Standard Error  Economy (GDP per Capita)   Family  \\\n",
       "153            3.465         0.03464                   0.22208  0.77370   \n",
       "154            3.340         0.03656                   0.28665  0.35386   \n",
       "155            3.006         0.05015                   0.66320  0.47489   \n",
       "156            2.905         0.08658                   0.01530  0.41587   \n",
       "157            2.839         0.06727                   0.20868  0.13995   \n",
       "\n",
       "     Health (Life Expectancy)  Freedom  Trust (Government Corruption)  \\\n",
       "153                   0.42864  0.59201                        0.55191   \n",
       "154                   0.31910  0.48450                        0.08010   \n",
       "155                   0.72193  0.15684                        0.18906   \n",
       "156                   0.22396  0.11850                        0.10062   \n",
       "157                   0.28443  0.36453                        0.10731   \n",
       "\n",
       "     Generosity  Dystopia Residual  \n",
       "153     0.22628            0.67042  \n",
       "154     0.18260            1.63328  \n",
       "155     0.47179            0.32858  \n",
       "156     0.19727            1.83302  \n",
       "157     0.16681            1.56726  "
      ]
     },
     "execution_count": 4,
     "metadata": {},
     "output_type": "execute_result"
    }
   ],
   "source": [
    "# unhappy countries\n",
    "df.tail()"
   ]
  },
  {
   "cell_type": "code",
   "execution_count": 5,
   "metadata": {},
   "outputs": [
    {
     "data": {
      "text/plain": [
       "['Country',\n",
       " 'Region',\n",
       " 'Happiness Rank',\n",
       " 'Happiness Score',\n",
       " 'Standard Error',\n",
       " 'Economy (GDP per Capita)',\n",
       " 'Family',\n",
       " 'Health (Life Expectancy)',\n",
       " 'Freedom',\n",
       " 'Trust (Government Corruption)',\n",
       " 'Generosity',\n",
       " 'Dystopia Residual']"
      ]
     },
     "execution_count": 5,
     "metadata": {},
     "output_type": "execute_result"
    }
   ],
   "source": [
    "# see features\n",
    "list(df)"
   ]
  },
  {
   "cell_type": "code",
   "execution_count": 6,
   "metadata": {},
   "outputs": [
    {
     "data": {
      "text/plain": [
       "(7.5869599999999995, 7.587000000000001)"
      ]
     },
     "execution_count": 6,
     "metadata": {},
     "output_type": "execute_result"
    }
   ],
   "source": [
    "# confirm: sum of last six columns is the happiness score\n",
    "sum(df.iloc[0, 5:]), df.iloc[0, 3]"
   ]
  },
  {
   "cell_type": "code",
   "execution_count": 7,
   "metadata": {},
   "outputs": [],
   "source": [
    "# 'normalize' data\n",
    "# for each country, divide rightmost 5 features by the happiness score, should sum to 1\n",
    "df.loc[:, 'Economy (GDP per Capita)':] = df.loc[:, 'Economy (GDP per Capita)':].values \\\n",
    "                                         / df['Happiness Score'].values.reshape(-1, 1)"
   ]
  },
  {
   "cell_type": "code",
   "execution_count": 8,
   "metadata": {},
   "outputs": [
    {
     "data": {
      "text/html": [
       "<div>\n",
       "<style scoped>\n",
       "    .dataframe tbody tr th:only-of-type {\n",
       "        vertical-align: middle;\n",
       "    }\n",
       "\n",
       "    .dataframe tbody tr th {\n",
       "        vertical-align: top;\n",
       "    }\n",
       "\n",
       "    .dataframe thead th {\n",
       "        text-align: right;\n",
       "    }\n",
       "</style>\n",
       "<table border=\"1\" class=\"dataframe\">\n",
       "  <thead>\n",
       "    <tr style=\"text-align: right;\">\n",
       "      <th></th>\n",
       "      <th>Country</th>\n",
       "      <th>Region</th>\n",
       "      <th>Happiness Rank</th>\n",
       "      <th>Happiness Score</th>\n",
       "      <th>Standard Error</th>\n",
       "      <th>Economy (GDP per Capita)</th>\n",
       "      <th>Family</th>\n",
       "      <th>Health (Life Expectancy)</th>\n",
       "      <th>Freedom</th>\n",
       "      <th>Trust (Government Corruption)</th>\n",
       "      <th>Generosity</th>\n",
       "      <th>Dystopia Residual</th>\n",
       "    </tr>\n",
       "  </thead>\n",
       "  <tbody>\n",
       "    <tr>\n",
       "      <th>0</th>\n",
       "      <td>Switzerland</td>\n",
       "      <td>Western Europe</td>\n",
       "      <td>1</td>\n",
       "      <td>7.587</td>\n",
       "      <td>0.03411</td>\n",
       "      <td>0.184066</td>\n",
       "      <td>0.177871</td>\n",
       "      <td>0.124085</td>\n",
       "      <td>0.087725</td>\n",
       "      <td>0.055329</td>\n",
       "      <td>0.039117</td>\n",
       "      <td>0.331802</td>\n",
       "    </tr>\n",
       "    <tr>\n",
       "      <th>1</th>\n",
       "      <td>Iceland</td>\n",
       "      <td>Western Europe</td>\n",
       "      <td>2</td>\n",
       "      <td>7.561</td>\n",
       "      <td>0.04884</td>\n",
       "      <td>0.172242</td>\n",
       "      <td>0.185456</td>\n",
       "      <td>0.125359</td>\n",
       "      <td>0.083160</td>\n",
       "      <td>0.018708</td>\n",
       "      <td>0.057704</td>\n",
       "      <td>0.357361</td>\n",
       "    </tr>\n",
       "    <tr>\n",
       "      <th>2</th>\n",
       "      <td>Denmark</td>\n",
       "      <td>Western Europe</td>\n",
       "      <td>3</td>\n",
       "      <td>7.527</td>\n",
       "      <td>0.03328</td>\n",
       "      <td>0.176097</td>\n",
       "      <td>0.180760</td>\n",
       "      <td>0.116200</td>\n",
       "      <td>0.086273</td>\n",
       "      <td>0.064245</td>\n",
       "      <td>0.045355</td>\n",
       "      <td>0.331080</td>\n",
       "    </tr>\n",
       "    <tr>\n",
       "      <th>3</th>\n",
       "      <td>Norway</td>\n",
       "      <td>Western Europe</td>\n",
       "      <td>4</td>\n",
       "      <td>7.522</td>\n",
       "      <td>0.03880</td>\n",
       "      <td>0.193964</td>\n",
       "      <td>0.176941</td>\n",
       "      <td>0.117683</td>\n",
       "      <td>0.089036</td>\n",
       "      <td>0.048528</td>\n",
       "      <td>0.046130</td>\n",
       "      <td>0.327747</td>\n",
       "    </tr>\n",
       "    <tr>\n",
       "      <th>4</th>\n",
       "      <td>Canada</td>\n",
       "      <td>North America</td>\n",
       "      <td>5</td>\n",
       "      <td>7.427</td>\n",
       "      <td>0.03553</td>\n",
       "      <td>0.178577</td>\n",
       "      <td>0.178081</td>\n",
       "      <td>0.121938</td>\n",
       "      <td>0.085226</td>\n",
       "      <td>0.044375</td>\n",
       "      <td>0.061682</td>\n",
       "      <td>0.330114</td>\n",
       "    </tr>\n",
       "  </tbody>\n",
       "</table>\n",
       "</div>"
      ],
      "text/plain": [
       "       Country          Region  Happiness Rank  Happiness Score  \\\n",
       "0  Switzerland  Western Europe               1            7.587   \n",
       "1      Iceland  Western Europe               2            7.561   \n",
       "2      Denmark  Western Europe               3            7.527   \n",
       "3       Norway  Western Europe               4            7.522   \n",
       "4       Canada   North America               5            7.427   \n",
       "\n",
       "   Standard Error  Economy (GDP per Capita)    Family  \\\n",
       "0         0.03411                  0.184066  0.177871   \n",
       "1         0.04884                  0.172242  0.185456   \n",
       "2         0.03328                  0.176097  0.180760   \n",
       "3         0.03880                  0.193964  0.176941   \n",
       "4         0.03553                  0.178577  0.178081   \n",
       "\n",
       "   Health (Life Expectancy)   Freedom  Trust (Government Corruption)  \\\n",
       "0                  0.124085  0.087725                       0.055329   \n",
       "1                  0.125359  0.083160                       0.018708   \n",
       "2                  0.116200  0.086273                       0.064245   \n",
       "3                  0.117683  0.089036                       0.048528   \n",
       "4                  0.121938  0.085226                       0.044375   \n",
       "\n",
       "   Generosity  Dystopia Residual  \n",
       "0    0.039117           0.331802  \n",
       "1    0.057704           0.357361  \n",
       "2    0.045355           0.331080  \n",
       "3    0.046130           0.327747  \n",
       "4    0.061682           0.330114  "
      ]
     },
     "execution_count": 8,
     "metadata": {},
     "output_type": "execute_result"
    }
   ],
   "source": [
    "df.head()"
   ]
  },
  {
   "cell_type": "code",
   "execution_count": 9,
   "metadata": {},
   "outputs": [
    {
     "data": {
      "text/html": [
       "<div>\n",
       "<style scoped>\n",
       "    .dataframe tbody tr th:only-of-type {\n",
       "        vertical-align: middle;\n",
       "    }\n",
       "\n",
       "    .dataframe tbody tr th {\n",
       "        vertical-align: top;\n",
       "    }\n",
       "\n",
       "    .dataframe thead th {\n",
       "        text-align: right;\n",
       "    }\n",
       "</style>\n",
       "<table border=\"1\" class=\"dataframe\">\n",
       "  <thead>\n",
       "    <tr style=\"text-align: right;\">\n",
       "      <th></th>\n",
       "      <th>Country</th>\n",
       "      <th>Region</th>\n",
       "      <th>Happiness Rank</th>\n",
       "      <th>Happiness Score</th>\n",
       "      <th>Standard Error</th>\n",
       "      <th>Economy (GDP per Capita)</th>\n",
       "      <th>Family</th>\n",
       "      <th>Health (Life Expectancy)</th>\n",
       "      <th>Freedom</th>\n",
       "      <th>Trust (Government Corruption)</th>\n",
       "      <th>Generosity</th>\n",
       "      <th>Dystopia Residual</th>\n",
       "    </tr>\n",
       "  </thead>\n",
       "  <tbody>\n",
       "    <tr>\n",
       "      <th>153</th>\n",
       "      <td>Rwanda</td>\n",
       "      <td>Sub-Saharan Africa</td>\n",
       "      <td>154</td>\n",
       "      <td>3.465</td>\n",
       "      <td>0.03464</td>\n",
       "      <td>0.064092</td>\n",
       "      <td>0.223290</td>\n",
       "      <td>0.123706</td>\n",
       "      <td>0.170854</td>\n",
       "      <td>0.159281</td>\n",
       "      <td>0.065304</td>\n",
       "      <td>0.193483</td>\n",
       "    </tr>\n",
       "    <tr>\n",
       "      <th>154</th>\n",
       "      <td>Benin</td>\n",
       "      <td>Sub-Saharan Africa</td>\n",
       "      <td>155</td>\n",
       "      <td>3.340</td>\n",
       "      <td>0.03656</td>\n",
       "      <td>0.085823</td>\n",
       "      <td>0.105946</td>\n",
       "      <td>0.095539</td>\n",
       "      <td>0.145060</td>\n",
       "      <td>0.023982</td>\n",
       "      <td>0.054671</td>\n",
       "      <td>0.489006</td>\n",
       "    </tr>\n",
       "    <tr>\n",
       "      <th>155</th>\n",
       "      <td>Syria</td>\n",
       "      <td>Middle East and Northern Africa</td>\n",
       "      <td>156</td>\n",
       "      <td>3.006</td>\n",
       "      <td>0.05015</td>\n",
       "      <td>0.220625</td>\n",
       "      <td>0.157981</td>\n",
       "      <td>0.240163</td>\n",
       "      <td>0.052176</td>\n",
       "      <td>0.062894</td>\n",
       "      <td>0.156949</td>\n",
       "      <td>0.109308</td>\n",
       "    </tr>\n",
       "    <tr>\n",
       "      <th>156</th>\n",
       "      <td>Burundi</td>\n",
       "      <td>Sub-Saharan Africa</td>\n",
       "      <td>157</td>\n",
       "      <td>2.905</td>\n",
       "      <td>0.08658</td>\n",
       "      <td>0.005267</td>\n",
       "      <td>0.143157</td>\n",
       "      <td>0.077095</td>\n",
       "      <td>0.040792</td>\n",
       "      <td>0.034637</td>\n",
       "      <td>0.067907</td>\n",
       "      <td>0.630988</td>\n",
       "    </tr>\n",
       "    <tr>\n",
       "      <th>157</th>\n",
       "      <td>Togo</td>\n",
       "      <td>Sub-Saharan Africa</td>\n",
       "      <td>158</td>\n",
       "      <td>2.839</td>\n",
       "      <td>0.06727</td>\n",
       "      <td>0.073505</td>\n",
       "      <td>0.049296</td>\n",
       "      <td>0.100187</td>\n",
       "      <td>0.128401</td>\n",
       "      <td>0.037799</td>\n",
       "      <td>0.058757</td>\n",
       "      <td>0.552046</td>\n",
       "    </tr>\n",
       "  </tbody>\n",
       "</table>\n",
       "</div>"
      ],
      "text/plain": [
       "     Country                           Region  Happiness Rank  \\\n",
       "153   Rwanda               Sub-Saharan Africa             154   \n",
       "154    Benin               Sub-Saharan Africa             155   \n",
       "155    Syria  Middle East and Northern Africa             156   \n",
       "156  Burundi               Sub-Saharan Africa             157   \n",
       "157     Togo               Sub-Saharan Africa             158   \n",
       "\n",
       "     Happiness Score  Standard Error  Economy (GDP per Capita)    Family  \\\n",
       "153            3.465         0.03464                  0.064092  0.223290   \n",
       "154            3.340         0.03656                  0.085823  0.105946   \n",
       "155            3.006         0.05015                  0.220625  0.157981   \n",
       "156            2.905         0.08658                  0.005267  0.143157   \n",
       "157            2.839         0.06727                  0.073505  0.049296   \n",
       "\n",
       "     Health (Life Expectancy)   Freedom  Trust (Government Corruption)  \\\n",
       "153                  0.123706  0.170854                       0.159281   \n",
       "154                  0.095539  0.145060                       0.023982   \n",
       "155                  0.240163  0.052176                       0.062894   \n",
       "156                  0.077095  0.040792                       0.034637   \n",
       "157                  0.100187  0.128401                       0.037799   \n",
       "\n",
       "     Generosity  Dystopia Residual  \n",
       "153    0.065304           0.193483  \n",
       "154    0.054671           0.489006  \n",
       "155    0.156949           0.109308  \n",
       "156    0.067907           0.630988  \n",
       "157    0.058757           0.552046  "
      ]
     },
     "execution_count": 9,
     "metadata": {},
     "output_type": "execute_result"
    }
   ],
   "source": [
    "df.tail()"
   ]
  },
  {
   "cell_type": "markdown",
   "metadata": {},
   "source": [
    "Normalization worked! This solves the issue described in the overview. Namely, happiness score was the sum of the component features, so a machine learning model attempting to predict happiness score could simply sum the component features to get the exact result! \n",
    "\n",
    "Now, we have percentages, in a sense. For each country, we have the percent by which each feature (economy, family, health, etc.) contributed to the happiness score. Perhaps we will find some interesting correlations -- will some features strongly correlate with happiness?"
   ]
  },
  {
   "cell_type": "markdown",
   "metadata": {},
   "source": [
    "## Explore Data\n",
    "### Correlations of individual features with labels:"
   ]
  },
  {
   "cell_type": "code",
   "execution_count": 10,
   "metadata": {},
   "outputs": [
    {
     "data": {
      "image/png": "[encoded data removed]",
      "text/plain": [
       "<matplotlib.figure.Figure at 0x1a22519278>"
      ]
     },
     "metadata": {
      "needs_background": "light"
     },
     "output_type": "display_data"
    }
   ],
   "source": [
    "df.plot.scatter(x='Economy (GDP per Capita)', y='Happiness Score', c='b');"
   ]
  },
  {
   "cell_type": "code",
   "execution_count": 11,
   "metadata": {},
   "outputs": [
    {
     "data": {
      "image/png": "[encoded data removed]",
      "text/plain": [
       "<matplotlib.figure.Figure at 0x1a22556860>"
      ]
     },
     "metadata": {
      "needs_background": "light"
     },
     "output_type": "display_data"
    }
   ],
   "source": [
    "df.plot.scatter(x='Family', y='Happiness Score', c='magenta');"
   ]
  },
  {
   "cell_type": "code",
   "execution_count": 12,
   "metadata": {},
   "outputs": [
    {
     "data": {
      "text/plain": [
       "147    Central African Republic\n",
       "157                        Togo\n",
       "Name: Country, dtype: object"
      ]
     },
     "execution_count": 12,
     "metadata": {},
     "output_type": "execute_result"
    }
   ],
   "source": [
    "# where was family least important?\n",
    "df[df['Family'] < 0.06].Country"
   ]
  },
  {
   "cell_type": "code",
   "execution_count": 13,
   "metadata": {},
   "outputs": [
    {
     "data": {
      "image/png": "[encoded data removed]",
      "text/plain": [
       "<matplotlib.figure.Figure at 0x1a22556a58>"
      ]
     },
     "metadata": {
      "needs_background": "light"
     },
     "output_type": "display_data"
    }
   ],
   "source": [
    "df.plot.scatter(x='Health (Life Expectancy)', y='Happiness Score', c='g');"
   ]
  },
  {
   "cell_type": "code",
   "execution_count": 14,
   "metadata": {},
   "outputs": [
    {
     "data": {
      "text/plain": [
       "155    Syria\n",
       "Name: Country, dtype: object"
      ]
     },
     "execution_count": 14,
     "metadata": {},
     "output_type": "execute_result"
    }
   ],
   "source": [
    "# outlier: where was health most important?\n",
    "df[df['Health (Life Expectancy)'] > 0.20].Country"
   ]
  },
  {
   "cell_type": "code",
   "execution_count": 15,
   "metadata": {},
   "outputs": [
    {
     "data": {
      "image/png": "[encoded data removed]",
      "text/plain": [
       "<matplotlib.figure.Figure at 0x1a228dd748>"
      ]
     },
     "metadata": {
      "needs_background": "light"
     },
     "output_type": "display_data"
    }
   ],
   "source": [
    "df.plot.scatter(x='Freedom', y='Happiness Score', c='r');"
   ]
  },
  {
   "cell_type": "code",
   "execution_count": 16,
   "metadata": {},
   "outputs": [
    {
     "data": {
      "text/plain": [
       "144    Cambodia\n",
       "153      Rwanda\n",
       "Name: Country, dtype: object"
      ]
     },
     "execution_count": 16,
     "metadata": {},
     "output_type": "execute_result"
    }
   ],
   "source": [
    "# where did freedom matter most?\n",
    "df[df['Freedom'] > 0.15].Country"
   ]
  },
  {
   "cell_type": "code",
   "execution_count": 17,
   "metadata": {},
   "outputs": [
    {
     "data": {
      "image/png": "[encoded data removed]",
      "text/plain": [
       "<matplotlib.figure.Figure at 0x1a229b7e80>"
      ]
     },
     "metadata": {
      "needs_background": "light"
     },
     "output_type": "display_data"
    }
   ],
   "source": [
    "df.plot.scatter(x='Trust (Government Corruption)', y='Happiness Score', c='gray');"
   ]
  },
  {
   "cell_type": "code",
   "execution_count": 18,
   "metadata": {},
   "outputs": [
    {
     "data": {
      "text/plain": [
       "153    Rwanda\n",
       "Name: Country, dtype: object"
      ]
     },
     "execution_count": 18,
     "metadata": {},
     "output_type": "execute_result"
    }
   ],
   "source": [
    "# where was trust in the government most important to happiness?\n",
    "df[df['Trust (Government Corruption)'] > 0.15].Country"
   ]
  },
  {
   "cell_type": "code",
   "execution_count": 19,
   "metadata": {},
   "outputs": [
    {
     "data": {
      "image/png": "[encoded data removed]",
      "text/plain": [
       "<matplotlib.figure.Figure at 0x1a229e04a8>"
      ]
     },
     "metadata": {
      "needs_background": "light"
     },
     "output_type": "display_data"
    }
   ],
   "source": [
    "df.plot.scatter(x='Generosity', y='Happiness Score', c='purple');"
   ]
  },
  {
   "cell_type": "code",
   "execution_count": 20,
   "metadata": {},
   "outputs": [
    {
     "data": {
      "text/plain": [
       "128    Myanmar\n",
       "155      Syria\n",
       "Name: Country, dtype: object"
      ]
     },
     "execution_count": 20,
     "metadata": {},
     "output_type": "execute_result"
    }
   ],
   "source": [
    "# where did generosity matter most?\n",
    "df[df['Generosity'] > 0.15].Country"
   ]
  },
  {
   "cell_type": "code",
   "execution_count": 21,
   "metadata": {},
   "outputs": [
    {
     "data": {
      "image/png": "[encoded data removed]",
      "text/plain": [
       "<matplotlib.figure.Figure at 0x1a22ac1c18>"
      ]
     },
     "metadata": {
      "needs_background": "light"
     },
     "output_type": "display_data"
    }
   ],
   "source": [
    "df.plot.scatter(x='Dystopia Residual', y='Happiness Score', c='k');"
   ]
  },
  {
   "cell_type": "markdown",
   "metadata": {},
   "source": [
    "### How features are correlated with each other:"
   ]
  },
  {
   "cell_type": "code",
   "execution_count": 22,
   "metadata": {},
   "outputs": [
    {
     "data": {
      "image/png": "[encoded data removed]",
      "text/plain": [
       "<matplotlib.figure.Figure at 0x1a22c252e8>"
      ]
     },
     "metadata": {
      "needs_background": "light"
     },
     "output_type": "display_data"
    }
   ],
   "source": [
    "# economy vs health\n",
    "df.plot.scatter(x='Economy (GDP per Capita)', y='Health (Life Expectancy)');"
   ]
  },
  {
   "cell_type": "code",
   "execution_count": 23,
   "metadata": {},
   "outputs": [
    {
     "data": {
      "image/png": "[encoded data removed]",
      "text/plain": [
       "<matplotlib.figure.Figure at 0x1a22b63438>"
      ]
     },
     "metadata": {
      "needs_background": "light"
     },
     "output_type": "display_data"
    }
   ],
   "source": [
    "# freedom vs trust\n",
    "df.plot.scatter(x='Trust (Government Corruption)', y='Freedom');"
   ]
  },
  {
   "cell_type": "code",
   "execution_count": 24,
   "metadata": {},
   "outputs": [
    {
     "data": {
      "image/png": "[encoded data removed]",
      "text/plain": [
       "<matplotlib.figure.Figure at 0x1a22cdfac8>"
      ]
     },
     "metadata": {
      "needs_background": "light"
     },
     "output_type": "display_data"
    }
   ],
   "source": [
    "# family vs generosity\n",
    "df.plot.scatter(x='Family', y='Generosity');"
   ]
  },
  {
   "cell_type": "markdown",
   "metadata": {},
   "source": [
    "### Happiness score by region:"
   ]
  },
  {
   "cell_type": "code",
   "execution_count": 25,
   "metadata": {},
   "outputs": [],
   "source": [
    "# create dictionary to store (regions, average happiness score) pairs\n",
    "region_dict = {}\n",
    "\n",
    "regions = df.Region.unique()\n",
    "\n",
    "for region in regions:\n",
    "    region_dict[region] = (sum(df[df.Region == region]['Happiness Score']) \\\n",
    "                          / df[df.Region == region].shape[0])"
   ]
  },
  {
   "cell_type": "code",
   "execution_count": 42,
   "metadata": {},
   "outputs": [
    {
     "data": {
      "image/png": "[encoded data removed]",
      "text/plain": [
       "<matplotlib.figure.Figure at 0x1a243879b0>"
      ]
     },
     "metadata": {
      "needs_background": "light"
     },
     "output_type": "display_data"
    }
   ],
   "source": [
    "plt.rcParams['figure.figsize'] = [18, 10]\n",
    "plt.title('Happiness by Region', fontsize=25)\n",
    "plt.xlim(3, 8)\n",
    "\n",
    "# plot from most -> least happy\n",
    "plt.barh(range(len(region_dict)),\n",
    "        sorted(region_dict.values()),\n",
    "        tick_label=sorted(region_dict, key=region_dict.get),\n",
    "        color='skyblue');"
   ]
  },
  {
   "cell_type": "markdown",
   "metadata": {},
   "source": [
    "### Contributors to happiness"
   ]
  },
  {
   "cell_type": "code",
   "execution_count": 27,
   "metadata": {},
   "outputs": [
    {
     "data": {
      "text/plain": [
       "Country                             Switzerland\n",
       "Region                           Western Europe\n",
       "Happiness Rank                                1\n",
       "Happiness Score                           7.587\n",
       "Standard Error                          0.03411\n",
       "Economy (GDP per Capita)               0.184066\n",
       "Family                                 0.177871\n",
       "Health (Life Expectancy)               0.124085\n",
       "Freedom                               0.0877251\n",
       "Trust (Government Corruption)         0.0553289\n",
       "Generosity                            0.0391169\n",
       "Dystopia Residual                      0.331802\n",
       "Name: 0, dtype: object"
      ]
     },
     "execution_count": 27,
     "metadata": {},
     "output_type": "execute_result"
    }
   ],
   "source": [
    "df.iloc[0, :]"
   ]
  },
  {
   "cell_type": "code",
   "execution_count": 28,
   "metadata": {},
   "outputs": [
    {
     "data": {
      "text/plain": [
       "Country                                        Togo\n",
       "Region                           Sub-Saharan Africa\n",
       "Happiness Rank                                  158\n",
       "Happiness Score                               2.839\n",
       "Standard Error                              0.06727\n",
       "Economy (GDP per Capita)                  0.0735048\n",
       "Family                                    0.0492955\n",
       "Health (Life Expectancy)                   0.100187\n",
       "Freedom                                    0.128401\n",
       "Trust (Government Corruption)             0.0377985\n",
       "Generosity                                0.0587566\n",
       "Dystopia Residual                          0.552046\n",
       "Name: 157, dtype: object"
      ]
     },
     "execution_count": 28,
     "metadata": {},
     "output_type": "execute_result"
    }
   ],
   "source": [
    "df.iloc[-1, :]"
   ]
  },
  {
   "cell_type": "code",
   "execution_count": 29,
   "metadata": {},
   "outputs": [
    {
     "data": {
      "image/png": "[encoded data removed]",
      "text/plain": [
       "<matplotlib.figure.Figure at 0x1a2331d470>"
      ]
     },
     "metadata": {},
     "output_type": "display_data"
    }
   ],
   "source": [
    "figure, (most, least) = plt.subplots(1, 2)\n",
    "figure.set_size_inches(20, 9)\n",
    "\n",
    "pie_labels = ['Economy', 'Family', 'Health', 'Freedom', 'Trust', 'Generosity']\n",
    "colors = ['lavender', 'lightsteelblue', 'lightslategray', 'lightskyblue', 'powderblue', 'darkslategray', 'azure']\n",
    "\n",
    "most.set_title('Switzerland (Happiest)', fontsize=25)\n",
    "most.pie(x=df.iloc[0, 5:-1].values * 100, \n",
    "        labels=pie_labels, \n",
    "        colors=colors);\n",
    "\n",
    "least.set_title('Togo (Unhappiest)', fontsize=25)\n",
    "least.pie(x=df.iloc[-1, 5:-1].values * 100, \n",
    "        labels=pie_labels,\n",
    "        colors=colors);"
   ]
  },
  {
   "cell_type": "markdown",
   "metadata": {},
   "source": [
    "## Build Model\n",
    "Start by preprocessing the data and putting it together into np arrays."
   ]
  },
  {
   "cell_type": "code",
   "execution_count": 30,
   "metadata": {},
   "outputs": [],
   "source": [
    "# one-hot encode Region feature\n",
    "from sklearn.preprocessing import OneHotEncoder\n",
    "ohe = OneHotEncoder(categories='auto')\n",
    "region = ohe.fit_transform(df.Region.values.reshape(-1, 1)).toarray()"
   ]
  },
  {
   "cell_type": "code",
   "execution_count": 31,
   "metadata": {},
   "outputs": [],
   "source": [
    "# get component feature values\n",
    "components = df.loc[:, 'Economy (GDP per Capita)':].values"
   ]
  },
  {
   "cell_type": "code",
   "execution_count": 32,
   "metadata": {},
   "outputs": [],
   "source": [
    "# combine features into single array\n",
    "X = np.hstack((region, components))\n",
    "\n",
    "# get labels (Happiness Score)\n",
    "y = df['Happiness Score'].values"
   ]
  },
  {
   "cell_type": "markdown",
   "metadata": {},
   "source": [
    "Build a simple linear regression model."
   ]
  },
  {
   "cell_type": "code",
   "execution_count": 33,
   "metadata": {},
   "outputs": [
    {
     "data": {
      "text/plain": [
       "LinearRegression(copy_X=True, fit_intercept=True, n_jobs=None,\n",
       "         normalize=False)"
      ]
     },
     "execution_count": 33,
     "metadata": {},
     "output_type": "execute_result"
    }
   ],
   "source": [
    "# build linear regression model\n",
    "from sklearn.linear_model import LinearRegression\n",
    "lin_reg = LinearRegression()\n",
    "lin_reg.fit(X, y)"
   ]
  },
  {
   "cell_type": "code",
   "execution_count": 34,
   "metadata": {
    "collapsed": true
   },
   "outputs": [
    {
     "name": "stdout",
     "output_type": "stream",
     "text": [
      "Predictions\tActual\n",
      "6.98\t\t7.59\n",
      "6.61\t\t7.56\n",
      "7.10\t\t7.53\n",
      "7.03\t\t7.52\n",
      "7.27\t\t7.43\n",
      "7.06\t\t7.41\n",
      "6.82\t\t7.38\n",
      "6.93\t\t7.36\n",
      "7.31\t\t7.29\n",
      "7.26\t\t7.28\n",
      "5.25\t\t7.28\n",
      "6.01\t\t7.23\n",
      "6.77\t\t7.20\n",
      "6.36\t\t7.19\n",
      "7.27\t\t7.12\n",
      "6.46\t\t6.98\n",
      "7.01\t\t6.95\n",
      "6.74\t\t6.94\n",
      "6.85\t\t6.94\n",
      "5.78\t\t6.90\n",
      "6.65\t\t6.87\n",
      "5.79\t\t6.85\n",
      "6.48\t\t6.81\n",
      "5.77\t\t6.80\n",
      "6.15\t\t6.79\n",
      "6.77\t\t6.75\n",
      "5.98\t\t6.67\n",
      "5.96\t\t6.61\n",
      "6.73\t\t6.58\n",
      "6.23\t\t6.57\n",
      "5.41\t\t6.50\n",
      "6.19\t\t6.49\n",
      "6.21\t\t6.48\n",
      "5.35\t\t6.46\n",
      "6.00\t\t6.41\n",
      "6.46\t\t6.33\n",
      "6.37\t\t6.30\n",
      "5.83\t\t6.30\n",
      "5.87\t\t6.29\n",
      "6.49\t\t6.27\n",
      "6.29\t\t6.17\n",
      "6.29\t\t6.13\n",
      "6.11\t\t6.12\n",
      "5.68\t\t6.00\n",
      "5.42\t\t6.00\n",
      "5.69\t\t5.99\n",
      "5.58\t\t5.98\n",
      "6.10\t\t5.97\n",
      "5.73\t\t5.96\n",
      "6.37\t\t5.95\n",
      "6.30\t\t5.89\n",
      "5.40\t\t5.89\n",
      "6.01\t\t5.88\n",
      "5.73\t\t5.86\n",
      "5.02\t\t5.85\n",
      "5.61\t\t5.83\n",
      "5.89\t\t5.83\n",
      "6.08\t\t5.82\n",
      "5.59\t\t5.81\n",
      "5.28\t\t5.79\n",
      "5.63\t\t5.77\n",
      "5.39\t\t5.76\n",
      "5.53\t\t5.75\n",
      "5.73\t\t5.72\n",
      "5.96\t\t5.71\n",
      "6.38\t\t5.70\n",
      "6.22\t\t5.69\n",
      "5.75\t\t5.61\n",
      "5.38\t\t5.59\n",
      "6.06\t\t5.55\n",
      "3.49\t\t5.48\n",
      "5.45\t\t5.47\n",
      "5.45\t\t5.43\n",
      "5.25\t\t5.40\n",
      "5.31\t\t5.36\n",
      "5.51\t\t5.33\n",
      "5.04\t\t5.29\n",
      "4.71\t\t5.27\n",
      "4.71\t\t5.25\n",
      "5.72\t\t5.21\n",
      "4.94\t\t5.19\n",
      "5.40\t\t5.19\n",
      "5.47\t\t5.19\n",
      "5.50\t\t5.14\n",
      "4.36\t\t5.13\n",
      "5.16\t\t5.12\n",
      "5.16\t\t5.12\n",
      "6.18\t\t5.10\n",
      "5.31\t\t5.10\n",
      "5.62\t\t5.07\n",
      "3.89\t\t5.06\n",
      "5.41\t\t5.01\n",
      "5.10\t\t5.01\n",
      "4.73\t\t4.97\n",
      "4.97\t\t4.96\n",
      "4.85\t\t4.95\n",
      "4.94\t\t4.90\n",
      "5.91\t\t4.88\n",
      "5.53\t\t4.88\n",
      "5.70\t\t4.87\n",
      "5.06\t\t4.87\n",
      "6.45\t\t4.86\n",
      "4.77\t\t4.84\n",
      "5.14\t\t4.80\n",
      "5.60\t\t4.79\n",
      "5.23\t\t4.79\n",
      "5.07\t\t4.74\n",
      "5.16\t\t4.71\n",
      "4.52\t\t4.69\n",
      "4.87\t\t4.69\n",
      "5.14\t\t4.68\n",
      "5.65\t\t4.68\n",
      "4.79\t\t4.64\n",
      "3.97\t\t4.63\n",
      "4.07\t\t4.61\n",
      "3.87\t\t4.57\n",
      "4.74\t\t4.57\n",
      "4.36\t\t4.55\n",
      "6.08\t\t4.52\n",
      "4.52\t\t4.52\n",
      "4.36\t\t4.51\n",
      "3.69\t\t4.51\n",
      "5.03\t\t4.51\n",
      "4.18\t\t4.44\n",
      "3.60\t\t4.42\n",
      "4.30\t\t4.37\n",
      "4.97\t\t4.35\n",
      "5.50\t\t4.33\n",
      "4.85\t\t4.31\n",
      "5.34\t\t4.30\n",
      "3.94\t\t4.29\n",
      "4.00\t\t4.27\n",
      "4.28\t\t4.25\n",
      "4.90\t\t4.22\n",
      "5.30\t\t4.19\n",
      "5.61\t\t4.08\n",
      "5.02\t\t4.03\n",
      "4.36\t\t4.00\n",
      "4.39\t\t3.99\n",
      "4.00\t\t3.96\n",
      "3.62\t\t3.93\n",
      "3.61\t\t3.90\n",
      "4.45\t\t3.90\n",
      "3.88\t\t3.85\n",
      "4.55\t\t3.82\n",
      "3.43\t\t3.78\n",
      "3.31\t\t3.68\n",
      "4.41\t\t3.68\n",
      "4.56\t\t3.67\n",
      "3.95\t\t3.66\n",
      "4.72\t\t3.65\n",
      "4.00\t\t3.59\n",
      "4.79\t\t3.58\n",
      "4.01\t\t3.46\n",
      "3.68\t\t3.34\n",
      "3.73\t\t3.01\n",
      "3.80\t\t2.90\n",
      "3.65\t\t2.84\n"
     ]
    }
   ],
   "source": [
    "# make predictions and compare to actual \n",
    "predictions = lin_reg.predict(X)\n",
    "\n",
    "# print predictions and actual, sum up error\n",
    "total_error = 0\n",
    "\n",
    "print('Predictions\\tActual')\n",
    "\n",
    "for i in range(predictions.size):\n",
    "    print('%.2f\\t\\t%.2f' % (predictions[i], y[i]))\n",
    "    total_error += np.abs(predictions[i] - y[i])    "
   ]
  },
  {
   "cell_type": "markdown",
   "metadata": {},
   "source": [
    "Looks like our model is working...\n",
    "\n",
    "Let's see what the average error is!"
   ]
  },
  {
   "cell_type": "code",
   "execution_count": 35,
   "metadata": {},
   "outputs": [
    {
     "data": {
      "text/plain": [
       "0.46986863348792696"
      ]
     },
     "execution_count": 35,
     "metadata": {},
     "output_type": "execute_result"
    }
   ],
   "source": [
    "# see average error in prediction\n",
    "total_error / predictions.size"
   ]
  },
  {
   "cell_type": "markdown",
   "metadata": {},
   "source": [
    "Not bad! A simple model like linear regression works pretty well for this dataset.\n",
    "\n",
    "(For context: the happiness scores range from 2.8 to 7.6. Our model makes predictions with an average error of 0.47)"
   ]
  }
 ],
 "metadata": {
  "kernelspec": {
   "display_name": "Python 3",
   "language": "python",
   "name": "python3"
  },
  "language_info": {
   "codemirror_mode": {
    "name": "ipython",
    "version": 3
   },
   "file_extension": ".py",
   "mimetype": "text/x-python",
   "name": "python",
   "nbconvert_exporter": "python",
   "pygments_lexer": "ipython3",
   "version": "3.6.6"
  }
 },
 "nbformat": 4,
 "nbformat_minor": 2
}
